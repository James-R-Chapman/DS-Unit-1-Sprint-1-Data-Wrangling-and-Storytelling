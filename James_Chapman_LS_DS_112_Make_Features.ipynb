{
  "nbformat": 4,
  "nbformat_minor": 0,
  "metadata": {
    "colab": {
      "name": "James_Chapman_LS_DS_112_Make_Features.ipynb",
      "provenance": [],
      "collapsed_sections": [],
      "include_colab_link": true
    },
    "kernelspec": {
      "display_name": "Python 3",
      "language": "python",
      "name": "python3"
    },
    "language_info": {
      "codemirror_mode": {
        "name": "ipython",
        "version": 3
      },
      "file_extension": ".py",
      "mimetype": "text/x-python",
      "name": "python",
      "nbconvert_exporter": "python",
      "pygments_lexer": "ipython3",
      "version": "3.7.1"
    }
  },
  "cells": [
    {
      "cell_type": "markdown",
      "metadata": {
        "id": "view-in-github",
        "colab_type": "text"
      },
      "source": [
        "<a href=\"https://colab.research.google.com/github/xlpbodily/DS-Unit-1-Sprint-1-Data-Wrangling-and-Storytelling/blob/master/James_Chapman_LS_DS_112_Make_Features.ipynb\" target=\"_parent\"><img src=\"https://colab.research.google.com/assets/colab-badge.svg\" alt=\"Open In Colab\"/></a>"
      ]
    },
    {
      "cell_type": "markdown",
      "metadata": {
        "id": "7fknoKxGz_jk",
        "colab_type": "text"
      },
      "source": [
        "Lambda School Data Science\n",
        "\n",
        "*Unit 1, Sprint 1, Module 2*\n",
        "\n",
        "---"
      ]
    },
    {
      "cell_type": "markdown",
      "metadata": {
        "colab_type": "text",
        "id": "qacqiXogluN_"
      },
      "source": [
        "# Make Features \n",
        "\n",
        "- Student should be able to understand the purpose of feature engineering\n",
        "- Student should be able to work with strings in pandas\n",
        "- Student should be able to work with dates and times in pandas\n",
        "- Student should be able to filter a dataframe based on conditions\n",
        "- Student should be able to modify or create columns of a dataframe using the `.apply()` function\n",
        "\n",
        "\n",
        "Helpful Links:\n",
        "- [Minimally Sufficient Pandas](https://medium.com/dunder-data/minimally-sufficient-pandas-a8e67f2a2428)\n",
        "- [Feature Engineering](https://en.wikipedia.org/wiki/Feature_engineering)\n",
        "- Python Data Science Handbook\n",
        "  - [Chapter 3.10](https://jakevdp.github.io/PythonDataScienceHandbook/03.10-working-with-strings.html), Vectorized String Operations\n",
        "  - [Chapter 3.11](https://jakevdp.github.io/PythonDataScienceHandbook/03.11-working-with-time-series.html), Working with Time Series\n",
        "- [Lambda Learning Method for DS - By Ryan Herr](https://docs.google.com/document/d/1ubOw9B3Hfip27hF2ZFnW3a3z9xAgrUDRReOEo-FHCVs/edit?usp=sharing)"
      ]
    },
    {
      "cell_type": "markdown",
      "metadata": {
        "colab_type": "text",
        "id": "iSGiSktAoWIx"
      },
      "source": [
        "## Get LendingClub data\n",
        "\n",
        "[Source](https://www.lendingclub.com/info/download-data.action)"
      ]
    },
    {
      "cell_type": "code",
      "metadata": {
        "colab_type": "code",
        "id": "2ugxlWXimoHn",
        "outputId": "45c759c0-d095-465f-cd7f-e82bf1090796",
        "colab": {
          "base_uri": "https://localhost:8080/",
          "height": 215
        }
      },
      "source": [
        "!wget https://resources.lendingclub.com/LoanStats_2018Q4.csv.zip"
      ],
      "execution_count": 0,
      "outputs": [
        {
          "output_type": "stream",
          "text": [
            "--2019-11-01 02:57:53--  https://resources.lendingclub.com/LoanStats_2018Q4.csv.zip\n",
            "Resolving resources.lendingclub.com (resources.lendingclub.com)... 64.48.1.20\n",
            "Connecting to resources.lendingclub.com (resources.lendingclub.com)|64.48.1.20|:443... connected.\n",
            "HTTP request sent, awaiting response... 200 OK\n",
            "Length: unspecified [application/zip]\n",
            "Saving to: ‘LoanStats_2018Q4.csv.zip’\n",
            "\n",
            "LoanStats_2018Q4.cs     [   <=>              ]  21.62M   406KB/s    in 55s     \n",
            "\n",
            "2019-11-01 02:58:49 (403 KB/s) - ‘LoanStats_2018Q4.csv.zip’ saved [22667400]\n",
            "\n"
          ],
          "name": "stdout"
        }
      ]
    },
    {
      "cell_type": "code",
      "metadata": {
        "colab_type": "code",
        "id": "-4sk6qPgmpmN",
        "outputId": "d65bc0df-7264-44a1-f2f2-c1ab772c45dd",
        "colab": {
          "base_uri": "https://localhost:8080/",
          "height": 53
        }
      },
      "source": [
        "!unzip LoanStats_2018Q4.csv.zip"
      ],
      "execution_count": 0,
      "outputs": [
        {
          "output_type": "stream",
          "text": [
            "Archive:  LoanStats_2018Q4.csv.zip\n",
            "  inflating: LoanStats_2018Q4.csv    \n"
          ],
          "name": "stdout"
        }
      ]
    },
    {
      "cell_type": "code",
      "metadata": {
        "colab_type": "code",
        "id": "seh5oNE1nD0X",
        "outputId": "493bd2fc-c67d-46d1-b31b-5a0034682c99",
        "colab": {
          "base_uri": "https://localhost:8080/",
          "height": 217
        }
      },
      "source": [
        "!head LoanStats_2018Q4.csv"
      ],
      "execution_count": 0,
      "outputs": [
        {
          "output_type": "stream",
          "text": [
            "Notes offered by Prospectus (https://www.lendingclub.com/info/prospectus.action)\n",
            "\"id\",\"member_id\",\"loan_amnt\",\"funded_amnt\",\"funded_amnt_inv\",\"term\",\"int_rate\",\"installment\",\"grade\",\"sub_grade\",\"emp_title\",\"emp_length\",\"home_ownership\",\"annual_inc\",\"verification_status\",\"issue_d\",\"loan_status\",\"pymnt_plan\",\"url\",\"desc\",\"purpose\",\"title\",\"zip_code\",\"addr_state\",\"dti\",\"delinq_2yrs\",\"earliest_cr_line\",\"inq_last_6mths\",\"mths_since_last_delinq\",\"mths_since_last_record\",\"open_acc\",\"pub_rec\",\"revol_bal\",\"revol_util\",\"total_acc\",\"initial_list_status\",\"out_prncp\",\"out_prncp_inv\",\"total_pymnt\",\"total_pymnt_inv\",\"total_rec_prncp\",\"total_rec_int\",\"total_rec_late_fee\",\"recoveries\",\"collection_recovery_fee\",\"last_pymnt_d\",\"last_pymnt_amnt\",\"next_pymnt_d\",\"last_credit_pull_d\",\"collections_12_mths_ex_med\",\"mths_since_last_major_derog\",\"policy_code\",\"application_type\",\"annual_inc_joint\",\"dti_joint\",\"verification_status_joint\",\"acc_now_delinq\",\"tot_coll_amt\",\"tot_cur_bal\",\"open_acc_6m\",\"open_act_il\",\"open_il_12m\",\"open_il_24m\",\"mths_since_rcnt_il\",\"total_bal_il\",\"il_util\",\"open_rv_12m\",\"open_rv_24m\",\"max_bal_bc\",\"all_util\",\"total_rev_hi_lim\",\"inq_fi\",\"total_cu_tl\",\"inq_last_12m\",\"acc_open_past_24mths\",\"avg_cur_bal\",\"bc_open_to_buy\",\"bc_util\",\"chargeoff_within_12_mths\",\"delinq_amnt\",\"mo_sin_old_il_acct\",\"mo_sin_old_rev_tl_op\",\"mo_sin_rcnt_rev_tl_op\",\"mo_sin_rcnt_tl\",\"mort_acc\",\"mths_since_recent_bc\",\"mths_since_recent_bc_dlq\",\"mths_since_recent_inq\",\"mths_since_recent_revol_delinq\",\"num_accts_ever_120_pd\",\"num_actv_bc_tl\",\"num_actv_rev_tl\",\"num_bc_sats\",\"num_bc_tl\",\"num_il_tl\",\"num_op_rev_tl\",\"num_rev_accts\",\"num_rev_tl_bal_gt_0\",\"num_sats\",\"num_tl_120dpd_2m\",\"num_tl_30dpd\",\"num_tl_90g_dpd_24m\",\"num_tl_op_past_12m\",\"pct_tl_nvr_dlq\",\"percent_bc_gt_75\",\"pub_rec_bankruptcies\",\"tax_liens\",\"tot_hi_cred_lim\",\"total_bal_ex_mort\",\"total_bc_limit\",\"total_il_high_credit_limit\",\"revol_bal_joint\",\"sec_app_earliest_cr_line\",\"sec_app_inq_last_6mths\",\"sec_app_mort_acc\",\"sec_app_open_acc\",\"sec_app_revol_util\",\"sec_app_open_act_il\",\"sec_app_num_rev_accts\",\"sec_app_chargeoff_within_12_mths\",\"sec_app_collections_12_mths_ex_med\",\"sec_app_mths_since_last_major_derog\",\"hardship_flag\",\"hardship_type\",\"hardship_reason\",\"hardship_status\",\"deferral_term\",\"hardship_amount\",\"hardship_start_date\",\"hardship_end_date\",\"payment_plan_start_date\",\"hardship_length\",\"hardship_dpd\",\"hardship_loan_status\",\"orig_projected_additional_accrued_interest\",\"hardship_payoff_balance_amount\",\"hardship_last_payment_amount\",\"debt_settlement_flag\",\"debt_settlement_flag_date\",\"settlement_status\",\"settlement_date\",\"settlement_amount\",\"settlement_percentage\",\"settlement_term\"\n",
            "\"\",\"\",\"20000\",\"20000\",\"20000\",\" 36 months\",\" 14.47%\",\"688.13\",\"C\",\"C2\",\"bus driver\",\"4 years\",\"OWN\",\"52000\",\"Source Verified\",\"Dec-2018\",\"Current\",\"n\",\"\",\"\",\"debt_consolidation\",\"Debt consolidation\",\"681xx\",\"NE\",\"30.65\",\"1\",\"Jun-1979\",\"2\",\"15\",\"\",\"6\",\"0\",\"15048\",\"73%\",\"22\",\"w\",\"15777.74\",\"15777.74\",\"6104.74\",\"6104.74\",\"4222.26\",\"1882.48\",\"0.0\",\"0.0\",\"0.0\",\"Sep-2019\",\"688.13\",\"Oct-2019\",\"Sep-2019\",\"0\",\"\",\"1\",\"Individual\",\"\",\"\",\"\",\"0\",\"0\",\"33157\",\"0\",\"2\",\"1\",\"1\",\"8\",\"18109\",\"44\",\"1\",\"2\",\"8628\",\"73\",\"20700\",\"1\",\"1\",\"4\",\"3\",\"5526\",\"5175\",\"73\",\"0\",\"0\",\"141\",\"474\",\"10\",\"8\",\"0\",\"10\",\"15\",\"1\",\"15\",\"0\",\"4\",\"4\",\"11\",\"12\",\"8\",\"4\",\"14\",\"4\",\"6\",\"\",\"0\",\"0\",\"2\",\"95\",\"50\",\"0\",\"0\",\"61699\",\"33157\",\"20700\",\"40999\",\"\",\"\",\"\",\"\",\"\",\"\",\"\",\"\",\"\",\"\",\"\",\"N\",\"\",\"\",\"\",\"\",\"\",\"\",\"\",\"\",\"\",\"\",\"\",\"\",\"\",\"\",\"N\",\"\",\"\",\"\",\"\",\"\",\"\"\n",
            "\"\",\"\",\"25000\",\"25000\",\"25000\",\" 60 months\",\" 16.14%\",\"609.82\",\"C\",\"C4\",\"Production Manager\",\"5 years\",\"MORTGAGE\",\"45000\",\"Not Verified\",\"Dec-2018\",\"Fully Paid\",\"n\",\"\",\"\",\"debt_consolidation\",\"Debt consolidation\",\"703xx\",\"LA\",\"37.09\",\"0\",\"Sep-2003\",\"0\",\"\",\"\",\"7\",\"0\",\"8901\",\"36.8%\",\"21\",\"w\",\"0.00\",\"0.00\",\"26653.1675796436\",\"26653.17\",\"25000.00\",\"1653.17\",\"0.0\",\"0.0\",\"0.0\",\"Apr-2019\",\"24857.33\",\"\",\"May-2019\",\"0\",\"\",\"1\",\"Individual\",\"\",\"\",\"\",\"0\",\"1303\",\"49524\",\"0\",\"2\",\"1\",\"2\",\"7\",\"40623\",\"82\",\"0\",\"0\",\"7830\",\"67\",\"24200\",\"2\",\"0\",\"1\",\"2\",\"7075\",\"10465\",\"43.7\",\"0\",\"0\",\"161\",\"162\",\"45\",\"7\",\"4\",\"96\",\"\",\"7\",\"\",\"0\",\"2\",\"3\",\"3\",\"5\",\"7\",\"5\",\"10\",\"3\",\"7\",\"0\",\"0\",\"0\",\"1\",\"100\",\"33.3\",\"0\",\"0\",\"73683\",\"49524\",\"18600\",\"49483\",\"\",\"\",\"\",\"\",\"\",\"\",\"\",\"\",\"\",\"\",\"\",\"N\",\"\",\"\",\"\",\"\",\"\",\"\",\"\",\"\",\"\",\"\",\"\",\"\",\"\",\"\",\"N\",\"\",\"\",\"\",\"\",\"\",\"\"\n",
            "\"\",\"\",\"26500\",\"26500\",\"26500\",\" 60 months\",\" 11.31%\",\"580.28\",\"B\",\"B3\",\"Compliance Director\",\"10+ years\",\"MORTGAGE\",\"134000\",\"Source Verified\",\"Dec-2018\",\"Current\",\"n\",\"\",\"\",\"credit_card\",\"Credit card refinancing\",\"747xx\",\"OK\",\"18.91\",\"0\",\"Dec-2006\",\"2\",\"\",\"\",\"17\",\"0\",\"43640\",\"65.4%\",\"37\",\"w\",\"23410.70\",\"23410.70\",\"5197.54\",\"5197.54\",\"3089.30\",\"2108.24\",\"0.0\",\"0.0\",\"0.0\",\"Sep-2019\",\"580.28\",\"Oct-2019\",\"Sep-2019\",\"0\",\"\",\"1\",\"Individual\",\"\",\"\",\"\",\"0\",\"0\",\"381100\",\"3\",\"3\",\"2\",\"2\",\"4\",\"64335\",\"46\",\"1\",\"3\",\"10115\",\"58\",\"66700\",\"2\",\"1\",\"7\",\"6\",\"22418\",\"14577\",\"70.4\",\"0\",\"0\",\"114\",\"144\",\"3\",\"3\",\"4\",\"22\",\"\",\"2\",\"\",\"0\",\"8\",\"10\",\"9\",\"10\",\"7\",\"13\",\"26\",\"10\",\"17\",\"0\",\"0\",\"0\",\"4\",\"100\",\"66.7\",\"0\",\"0\",\"430403\",\"107975\",\"49300\",\"88875\",\"\",\"\",\"\",\"\",\"\",\"\",\"\",\"\",\"\",\"\",\"\",\"N\",\"\",\"\",\"\",\"\",\"\",\"\",\"\",\"\",\"\",\"\",\"\",\"\",\"\",\"\",\"N\",\"\",\"\",\"\",\"\",\"\",\"\"\n",
            "\"\",\"\",\"10400\",\"10400\",\"10400\",\" 36 months\",\" 12.98%\",\"350.32\",\"B\",\"B5\",\"Program Support Assistant \",\"10+ years\",\"MORTGAGE\",\"56099\",\"Source Verified\",\"Dec-2018\",\"Current\",\"n\",\"\",\"\",\"credit_card\",\"Credit card refinancing\",\"800xx\",\"CO\",\"20.92\",\"0\",\"Jul-2013\",\"2\",\"32\",\"67\",\"8\",\"1\",\"1669\",\"9.8%\",\"10\",\"w\",\"8164.57\",\"8164.57\",\"3141.63\",\"3141.63\",\"2235.43\",\"906.20\",\"0.0\",\"0.0\",\"0.0\",\"Sep-2019\",\"350.32\",\"Oct-2019\",\"Sep-2019\",\"0\",\"\",\"1\",\"Individual\",\"\",\"\",\"\",\"0\",\"0\",\"39564\",\"4\",\"2\",\"1\",\"2\",\"1\",\"37895\",\"92\",\"3\",\"6\",\"725\",\"36\",\"17000\",\"1\",\"0\",\"4\",\"8\",\"4946\",\"15331\",\"9.8\",\"0\",\"0\",\"65\",\"57\",\"1\",\"1\",\"0\",\"1\",\"\",\"0\",\"32\",\"0\",\"3\",\"3\",\"6\",\"6\",\"3\",\"6\",\"7\",\"3\",\"8\",\"0\",\"0\",\"0\",\"4\",\"90\",\"0\",\"1\",\"0\",\"60709\",\"39564\",\"17000\",\"43709\",\"\",\"\",\"\",\"\",\"\",\"\",\"\",\"\",\"\",\"\",\"\",\"N\",\"\",\"\",\"\",\"\",\"\",\"\",\"\",\"\",\"\",\"\",\"\",\"\",\"\",\"\",\"N\",\"\",\"\",\"\",\"\",\"\",\"\"\n",
            "\"\",\"\",\"35000\",\"35000\",\"35000\",\" 60 months\",\" 12.98%\",\"796\",\"B\",\"B5\",\"Sr. Vice President -Risk Manager\",\"7 years\",\"MORTGAGE\",\"211646\",\"Source Verified\",\"Dec-2018\",\"Fully Paid\",\"n\",\"\",\"\",\"debt_consolidation\",\"Debt consolidation\",\"797xx\",\"TX\",\"15.09\",\"0\",\"Sep-1985\",\"0\",\"77\",\"\",\"13\",\"0\",\"55944\",\"74.9%\",\"39\",\"w\",\"0.00\",\"0.00\",\"36266.741551619\",\"36266.74\",\"35000.00\",\"1266.74\",\"0.0\",\"0.0\",\"0.0\",\"Apr-2019\",\"34712.6\",\"\",\"Sep-2019\",\"0\",\"\",\"1\",\"Joint App\",\"272421\",\"15.89\",\"Source Verified\",\"0\",\"0\",\"420931\",\"1\",\"3\",\"1\",\"2\",\"5\",\"26570\",\"51\",\"0\",\"2\",\"24795\",\"65\",\"74700\",\"1\",\"6\",\"1\",\"4\",\"32379\",\"8677\",\"85.5\",\"0\",\"0\",\"152\",\"399\",\"21\",\"5\",\"6\",\"21\",\"77\",\"12\",\"77\",\"0\",\"6\",\"8\",\"6\",\"11\",\"14\",\"9\",\"19\",\"8\",\"13\",\"0\",\"0\",\"0\",\"1\",\"97.4\",\"66.7\",\"0\",\"0\",\"516204\",\"82514\",\"59700\",\"51904\",\"88364\",\"Sep-1985\",\"0\",\"6\",\"19\",\"53.4\",\"2\",\"29\",\"0\",\"0\",\"\",\"N\",\"\",\"\",\"\",\"\",\"\",\"\",\"\",\"\",\"\",\"\",\"\",\"\",\"\",\"\",\"N\",\"\",\"\",\"\",\"\",\"\",\"\"\n",
            "\"\",\"\",\"20000\",\"20000\",\"20000\",\" 36 months\",\"  7.56%\",\"622.68\",\"A\",\"A3\",\"Teacher\",\"10+ years\",\"MORTGAGE\",\"100000\",\"Not Verified\",\"Dec-2018\",\"Fully Paid\",\"n\",\"\",\"\",\"credit_card\",\"Credit card refinancing\",\"982xx\",\"WA\",\"18.92\",\"0\",\"Feb-1999\",\"0\",\"48\",\"\",\"9\",\"0\",\"25416\",\"29.9%\",\"19\",\"w\",\"0.00\",\"0.00\",\"20215.79243\",\"20215.79\",\"20000.00\",\"215.79\",\"0.0\",\"0.0\",\"0.0\",\"Feb-2019\",\"20228.39\",\"\",\"Feb-2019\",\"0\",\"\",\"1\",\"Joint App\",\"190000\",\"11.75\",\"Not Verified\",\"0\",\"0\",\"515779\",\"1\",\"2\",\"0\",\"1\",\"13\",\"46153\",\"71\",\"1\",\"2\",\"9759\",\"39\",\"85100\",\"2\",\"2\",\"0\",\"5\",\"57309\",\"59684\",\"29.9\",\"0\",\"0\",\"171\",\"238\",\"1\",\"1\",\"5\",\"1\",\"\",\"13\",\"48\",\"0\",\"5\",\"5\",\"5\",\"6\",\"5\",\"5\",\"9\",\"5\",\"9\",\"0\",\"0\",\"0\",\"1\",\"94.7\",\"20\",\"0\",\"0\",\"622183\",\"71569\",\"85100\",\"74833\",\"43287\",\"Aug-1998\",\"0\",\"3\",\"10\",\"29.7\",\"2\",\"7\",\"0\",\"0\",\"\",\"N\",\"\",\"\",\"\",\"\",\"\",\"\",\"\",\"\",\"\",\"\",\"\",\"\",\"\",\"\",\"N\",\"\",\"\",\"\",\"\",\"\",\"\"\n",
            "\"\",\"\",\"13000\",\"13000\",\"13000\",\" 36 months\",\" 17.97%\",\"469.79\",\"D\",\"D1\",\"Help Tech Supervisor\",\"10+ years\",\"MORTGAGE\",\"92360\",\"Source Verified\",\"Dec-2018\",\"Current\",\"n\",\"\",\"\",\"home_improvement\",\"Home improvement\",\"300xx\",\"GA\",\"27.44\",\"0\",\"Sep-2006\",\"1\",\"68\",\"\",\"18\",\"0\",\"32020\",\"49.6%\",\"30\",\"w\",\"10370.35\",\"10370.35\",\"4208.64\",\"4208.64\",\"2629.65\",\"1578.99\",\"0.0\",\"0.0\",\"0.0\",\"Sep-2019\",\"469.79\",\"Oct-2019\",\"Sep-2019\",\"0\",\"\",\"1\",\"Individual\",\"\",\"\",\"\",\"0\",\"0\",\"131919\",\"1\",\"2\",\"1\",\"3\",\"4\",\"17310\",\"60\",\"0\",\"2\",\"6116\",\"53\",\"64600\",\"1\",\"4\",\"1\",\"5\",\"7760\",\"7140\",\"70.7\",\"0\",\"0\",\"120\",\"147\",\"16\",\"4\",\"2\",\"18\",\"\",\"4\",\"70\",\"0\",\"5\",\"12\",\"6\",\"7\",\"6\",\"15\",\"22\",\"12\",\"18\",\"0\",\"0\",\"0\",\"1\",\"90\",\"66.7\",\"0\",\"0\",\"190803\",\"49330\",\"24400\",\"28861\",\"\",\"\",\"\",\"\",\"\",\"\",\"\",\"\",\"\",\"\",\"\",\"N\",\"\",\"\",\"\",\"\",\"\",\"\",\"\",\"\",\"\",\"\",\"\",\"\",\"\",\"\",\"N\",\"\",\"\",\"\",\"\",\"\",\"\"\n",
            "\"\",\"\",\"12000\",\"12000\",\"12000\",\" 60 months\",\" 14.47%\",\"282.16\",\"C\",\"C2\",\"Assistant Athletic Director of Marketing\",\"1 year\",\"RENT\",\"67000\",\"Not Verified\",\"Dec-2018\",\"Fully Paid\",\"n\",\"\",\"\",\"credit_card\",\"Credit card refinancing\",\"231xx\",\"VA\",\"28.39\",\"0\",\"Aug-2009\",\"1\",\"\",\"\",\"9\",\"0\",\"10018\",\"50.9%\",\"34\",\"w\",\"0.00\",\"0.00\",\"13140.1266634624\",\"13140.13\",\"12000.00\",\"1140.13\",\"0.0\",\"0.0\",\"0.0\",\"Sep-2019\",\"11169.83\",\"\",\"Sep-2019\",\"0\",\"\",\"1\",\"Individual\",\"\",\"\",\"\",\"0\",\"0\",\"184578\",\"1\",\"4\",\"2\",\"3\",\"5\",\"174560\",\"97\",\"0\",\"1\",\"4615\",\"87\",\"19700\",\"1\",\"1\",\"2\",\"4\",\"20509\",\"9682\",\"50.9\",\"0\",\"0\",\"112\",\"80\",\"23\",\"5\",\"0\",\"23\",\"\",\"5\",\"\",\"0\",\"3\",\"3\",\"5\",\"5\",\"26\",\"5\",\"8\",\"3\",\"9\",\"0\",\"0\",\"0\",\"2\",\"100\",\"0\",\"0\",\"0\",\"183897\",\"184578\",\"19700\",\"164197\",\"\",\"\",\"\",\"\",\"\",\"\",\"\",\"\",\"\",\"\",\"\",\"N\",\"\",\"\",\"\",\"\",\"\",\"\",\"\",\"\",\"\",\"\",\"\",\"\",\"\",\"\",\"N\",\"\",\"\",\"\",\"\",\"\",\"\"\n"
          ],
          "name": "stdout"
        }
      ]
    },
    {
      "cell_type": "code",
      "metadata": {
        "id": "ots9S8C8536e",
        "colab_type": "code",
        "outputId": "140e17bb-13c8-4219-8f07-8783111c320e",
        "colab": {
          "base_uri": "https://localhost:8080/",
          "height": 217
        }
      },
      "source": [
        "!tail LoanStats_2018Q4.csv"
      ],
      "execution_count": 0,
      "outputs": [
        {
          "output_type": "stream",
          "text": [
            "\"\",\"\",\"5600\",\"5600\",\"5600\",\" 36 months\",\" 13.56%\",\"190.21\",\"C\",\"C1\",\"\",\"n/a\",\"RENT\",\"15600\",\"Not Verified\",\"Oct-2018\",\"Current\",\"n\",\"\",\"\",\"credit_card\",\"Credit card refinancing\",\"836xx\",\"ID\",\"15.31\",\"0\",\"Aug-2012\",\"0\",\"\",\"97\",\"9\",\"1\",\"5996\",\"34.5%\",\"11\",\"w\",\"4122.15\",\"4122.15\",\"2081.76\",\"2081.76\",\"1477.85\",\"603.91\",\"0.0\",\"0.0\",\"0.0\",\"Sep-2019\",\"190.21\",\"Oct-2019\",\"Sep-2019\",\"0\",\"\",\"1\",\"Individual\",\"\",\"\",\"\",\"0\",\"0\",\"5996\",\"0\",\"0\",\"0\",\"1\",\"20\",\"0\",\"\",\"0\",\"2\",\"3017\",\"35\",\"17400\",\"1\",\"0\",\"0\",\"3\",\"750\",\"4689\",\"45.5\",\"0\",\"0\",\"20\",\"73\",\"13\",\"13\",\"0\",\"13\",\"\",\"20\",\"\",\"0\",\"3\",\"5\",\"4\",\"4\",\"1\",\"9\",\"10\",\"5\",\"9\",\"0\",\"0\",\"0\",\"0\",\"100\",\"25\",\"1\",\"0\",\"17400\",\"5996\",\"8600\",\"0\",\"\",\"\",\"\",\"\",\"\",\"\",\"\",\"\",\"\",\"\",\"\",\"N\",\"\",\"\",\"\",\"\",\"\",\"\",\"\",\"\",\"\",\"\",\"\",\"\",\"\",\"\",\"N\",\"\",\"\",\"\",\"\",\"\",\"\"\n",
            "\"\",\"\",\"23000\",\"23000\",\"23000\",\" 36 months\",\" 15.02%\",\"797.53\",\"C\",\"C3\",\"Tax Consultant\",\"10+ years\",\"MORTGAGE\",\"75000\",\"Source Verified\",\"Oct-2018\",\"Charged Off\",\"n\",\"\",\"\",\"debt_consolidation\",\"Debt consolidation\",\"352xx\",\"AL\",\"20.95\",\"1\",\"Aug-1985\",\"2\",\"22\",\"\",\"12\",\"0\",\"22465\",\"43.6%\",\"28\",\"w\",\"0.00\",\"0.00\",\"1547.08\",\"1547.08\",\"1025.67\",\"521.41\",\"0.0\",\"0.0\",\"0.0\",\"Dec-2018\",\"797.53\",\"\",\"Nov-2018\",\"0\",\"\",\"1\",\"Individual\",\"\",\"\",\"\",\"0\",\"0\",\"259658\",\"4\",\"2\",\"3\",\"3\",\"6\",\"18149\",\"86\",\"4\",\"6\",\"12843\",\"56\",\"51500\",\"2\",\"2\",\"5\",\"11\",\"21638\",\"26321\",\"44.1\",\"0\",\"0\",\"12\",\"397\",\"4\",\"4\",\"6\",\"5\",\"22\",\"4\",\"22\",\"0\",\"4\",\"5\",\"7\",\"14\",\"3\",\"9\",\"19\",\"5\",\"12\",\"0\",\"0\",\"0\",\"7\",\"96.4\",\"14.3\",\"0\",\"0\",\"296500\",\"40614\",\"47100\",\"21000\",\"\",\"\",\"\",\"\",\"\",\"\",\"\",\"\",\"\",\"\",\"\",\"N\",\"\",\"\",\"\",\"\",\"\",\"\",\"\",\"\",\"\",\"\",\"\",\"\",\"\",\"\",\"N\",\"\",\"\",\"\",\"\",\"\",\"\"\n",
            "\"\",\"\",\"10000\",\"10000\",\"10000\",\" 36 months\",\" 15.02%\",\"346.76\",\"C\",\"C3\",\"security guard\",\"5 years\",\"MORTGAGE\",\"38000\",\"Not Verified\",\"Oct-2018\",\"Current\",\"n\",\"\",\"\",\"debt_consolidation\",\"Debt consolidation\",\"443xx\",\"OH\",\"13.16\",\"3\",\"Jul-1982\",\"0\",\"6\",\"\",\"11\",\"0\",\"5634\",\"37.1%\",\"16\",\"w\",\"7404.05\",\"7404.05\",\"3806.02\",\"3806.02\",\"2595.95\",\"1210.07\",\"0.0\",\"0.0\",\"0.0\",\"Sep-2019\",\"346.76\",\"Oct-2019\",\"Sep-2019\",\"0\",\"\",\"1\",\"Individual\",\"\",\"\",\"\",\"0\",\"155\",\"77424\",\"0\",\"1\",\"0\",\"0\",\"34\",\"200\",\"10\",\"1\",\"1\",\"1866\",\"42\",\"15200\",\"2\",\"0\",\"0\",\"2\",\"7039\",\"4537\",\"50.1\",\"0\",\"0\",\"34\",\"434\",\"11\",\"11\",\"3\",\"11\",\"6\",\"17\",\"6\",\"0\",\"3\",\"5\",\"5\",\"6\",\"1\",\"8\",\"11\",\"5\",\"11\",\"0\",\"0\",\"0\",\"1\",\"73.3\",\"40\",\"0\",\"0\",\"91403\",\"9323\",\"9100\",\"2000\",\"\",\"\",\"\",\"\",\"\",\"\",\"\",\"\",\"\",\"\",\"\",\"N\",\"\",\"\",\"\",\"\",\"\",\"\",\"\",\"\",\"\",\"\",\"\",\"\",\"\",\"\",\"N\",\"\",\"\",\"\",\"\",\"\",\"\"\n",
            "\"\",\"\",\"5000\",\"5000\",\"5000\",\" 36 months\",\" 13.56%\",\"169.83\",\"C\",\"C1\",\"Payoff Clerk\",\"10+ years\",\"MORTGAGE\",\"35360\",\"Not Verified\",\"Oct-2018\",\"Current\",\"n\",\"\",\"\",\"debt_consolidation\",\"Debt consolidation\",\"381xx\",\"TN\",\"11.3\",\"1\",\"Jun-2006\",\"0\",\"21\",\"\",\"9\",\"0\",\"2597\",\"27.3%\",\"15\",\"f\",\"3680.49\",\"3680.49\",\"1864.36\",\"1864.36\",\"1319.51\",\"544.85\",\"0.0\",\"0.0\",\"0.0\",\"Sep-2019\",\"169.83\",\"Oct-2019\",\"Sep-2019\",\"0\",\"\",\"1\",\"Individual\",\"\",\"\",\"\",\"0\",\"1413\",\"69785\",\"0\",\"2\",\"0\",\"1\",\"16\",\"2379\",\"40\",\"3\",\"4\",\"1826\",\"32\",\"9500\",\"0\",\"0\",\"1\",\"5\",\"8723\",\"1174\",\"60.9\",\"0\",\"0\",\"147\",\"85\",\"9\",\"9\",\"2\",\"10\",\"21\",\"9\",\"21\",\"0\",\"1\",\"3\",\"2\",\"2\",\"6\",\"6\",\"7\",\"3\",\"9\",\"0\",\"0\",\"0\",\"3\",\"92.9\",\"50\",\"0\",\"0\",\"93908\",\"4976\",\"3000\",\"6028\",\"\",\"\",\"\",\"\",\"\",\"\",\"\",\"\",\"\",\"\",\"\",\"N\",\"\",\"\",\"\",\"\",\"\",\"\",\"\",\"\",\"\",\"\",\"\",\"\",\"\",\"\",\"N\",\"\",\"\",\"\",\"\",\"\",\"\"\n",
            "\"\",\"\",\"10000\",\"10000\",\"9750\",\" 36 months\",\" 11.06%\",\"327.68\",\"B\",\"B3\",\"\",\"n/a\",\"RENT\",\"44400\",\"Source Verified\",\"Oct-2018\",\"Current\",\"n\",\"\",\"\",\"credit_card\",\"Credit card refinancing\",\"980xx\",\"WA\",\"11.78\",\"0\",\"Oct-2008\",\"2\",\"40\",\"\",\"15\",\"0\",\"6269\",\"13.1%\",\"25\",\"f\",\"7286.61\",\"7104.44\",\"3589.12\",\"3499.39\",\"2713.39\",\"875.73\",\"0.0\",\"0.0\",\"0.0\",\"Sep-2019\",\"327.68\",\"Oct-2019\",\"Sep-2019\",\"0\",\"53\",\"1\",\"Individual\",\"\",\"\",\"\",\"0\",\"520\",\"16440\",\"3\",\"1\",\"1\",\"1\",\"2\",\"10171\",\"100\",\"2\",\"5\",\"404\",\"28\",\"47700\",\"0\",\"3\",\"5\",\"6\",\"1265\",\"20037\",\"2.3\",\"0\",\"0\",\"61\",\"119\",\"1\",\"1\",\"0\",\"1\",\"\",\"1\",\"40\",\"1\",\"2\",\"4\",\"6\",\"8\",\"3\",\"14\",\"22\",\"4\",\"15\",\"0\",\"0\",\"0\",\"3\",\"92\",\"0\",\"0\",\"0\",\"57871\",\"16440\",\"20500\",\"10171\",\"\",\"\",\"\",\"\",\"\",\"\",\"\",\"\",\"\",\"\",\"\",\"N\",\"\",\"\",\"\",\"\",\"\",\"\",\"\",\"\",\"\",\"\",\"\",\"\",\"\",\"\",\"N\",\"\",\"\",\"\",\"\",\"\",\"\"\n",
            "\"\",\"\",\"10000\",\"10000\",\"10000\",\" 36 months\",\" 16.91%\",\"356.08\",\"C\",\"C5\",\"Key Accounts Manager\",\"2 years\",\"RENT\",\"80000\",\"Not Verified\",\"Oct-2018\",\"Current\",\"n\",\"\",\"\",\"other\",\"Other\",\"021xx\",\"MA\",\"17.72\",\"1\",\"Sep-2006\",\"0\",\"14\",\"\",\"17\",\"0\",\"1942\",\"30.8%\",\"31\",\"w\",\"7459.19\",\"7459.19\",\"3907.49\",\"3907.49\",\"2540.81\",\"1366.68\",\"0.0\",\"0.0\",\"0.0\",\"Sep-2019\",\"356.08\",\"Oct-2019\",\"Sep-2019\",\"0\",\"25\",\"1\",\"Individual\",\"\",\"\",\"\",\"0\",\"0\",\"59194\",\"0\",\"15\",\"1\",\"1\",\"12\",\"57252\",\"85\",\"0\",\"0\",\"1942\",\"80\",\"6300\",\"0\",\"5\",\"0\",\"1\",\"3482\",\"2058\",\"48.5\",\"0\",\"0\",\"144\",\"142\",\"40\",\"12\",\"0\",\"131\",\"30\",\"\",\"30\",\"3\",\"1\",\"1\",\"1\",\"5\",\"22\",\"2\",\"9\",\"1\",\"17\",\"0\",\"0\",\"0\",\"1\",\"74.2\",\"0\",\"0\",\"0\",\"73669\",\"59194\",\"4000\",\"67369\",\"\",\"\",\"\",\"\",\"\",\"\",\"\",\"\",\"\",\"\",\"\",\"N\",\"\",\"\",\"\",\"\",\"\",\"\",\"\",\"\",\"\",\"\",\"\",\"\",\"\",\"\",\"N\",\"\",\"\",\"\",\"\",\"\",\"\"\n",
            "\n",
            "\n",
            "Total amount funded in policy code 1: 2050909275\n",
            "Total amount funded in policy code 2: 820109297\n"
          ],
          "name": "stdout"
        }
      ]
    },
    {
      "cell_type": "markdown",
      "metadata": {
        "colab_type": "text",
        "id": "3nAIRCZdofrY"
      },
      "source": [
        "## Load LendingClub data\n",
        "\n",
        "pandas documentation\n",
        "- [`read_csv`](https://pandas.pydata.org/pandas-docs/stable/generated/pandas.read_csv.html)\n",
        "- [`options.display`](https://pandas.pydata.org/pandas-docs/stable/options.html#available-options)"
      ]
    },
    {
      "cell_type": "code",
      "metadata": {
        "colab_type": "code",
        "id": "3-8Vn3y6ooBC",
        "outputId": "606f8539-2bb0-4e76-bf7f-5c857fe5d6b1",
        "colab": {
          "base_uri": "https://localhost:8080/",
          "height": 389
        }
      },
      "source": [
        "import pandas as pd\n",
        "df = pd.read_csv('LoanStats_2018Q4.csv', skiprows=1, skipfooter=2, engine='python')\n",
        "df.head()"
      ],
      "execution_count": 0,
      "outputs": [
        {
          "output_type": "execute_result",
          "data": {
            "text/html": [
              "<div>\n",
              "<style scoped>\n",
              "    .dataframe tbody tr th:only-of-type {\n",
              "        vertical-align: middle;\n",
              "    }\n",
              "\n",
              "    .dataframe tbody tr th {\n",
              "        vertical-align: top;\n",
              "    }\n",
              "\n",
              "    .dataframe thead th {\n",
              "        text-align: right;\n",
              "    }\n",
              "</style>\n",
              "<table border=\"1\" class=\"dataframe\">\n",
              "  <thead>\n",
              "    <tr style=\"text-align: right;\">\n",
              "      <th></th>\n",
              "      <th>id</th>\n",
              "      <th>member_id</th>\n",
              "      <th>loan_amnt</th>\n",
              "      <th>funded_amnt</th>\n",
              "      <th>funded_amnt_inv</th>\n",
              "      <th>term</th>\n",
              "      <th>int_rate</th>\n",
              "      <th>installment</th>\n",
              "      <th>grade</th>\n",
              "      <th>sub_grade</th>\n",
              "      <th>emp_title</th>\n",
              "      <th>emp_length</th>\n",
              "      <th>home_ownership</th>\n",
              "      <th>annual_inc</th>\n",
              "      <th>verification_status</th>\n",
              "      <th>issue_d</th>\n",
              "      <th>loan_status</th>\n",
              "      <th>pymnt_plan</th>\n",
              "      <th>url</th>\n",
              "      <th>desc</th>\n",
              "      <th>purpose</th>\n",
              "      <th>title</th>\n",
              "      <th>zip_code</th>\n",
              "      <th>addr_state</th>\n",
              "      <th>dti</th>\n",
              "      <th>delinq_2yrs</th>\n",
              "      <th>earliest_cr_line</th>\n",
              "      <th>inq_last_6mths</th>\n",
              "      <th>mths_since_last_delinq</th>\n",
              "      <th>mths_since_last_record</th>\n",
              "      <th>open_acc</th>\n",
              "      <th>pub_rec</th>\n",
              "      <th>revol_bal</th>\n",
              "      <th>revol_util</th>\n",
              "      <th>total_acc</th>\n",
              "      <th>initial_list_status</th>\n",
              "      <th>out_prncp</th>\n",
              "      <th>out_prncp_inv</th>\n",
              "      <th>total_pymnt</th>\n",
              "      <th>total_pymnt_inv</th>\n",
              "      <th>...</th>\n",
              "      <th>percent_bc_gt_75</th>\n",
              "      <th>pub_rec_bankruptcies</th>\n",
              "      <th>tax_liens</th>\n",
              "      <th>tot_hi_cred_lim</th>\n",
              "      <th>total_bal_ex_mort</th>\n",
              "      <th>total_bc_limit</th>\n",
              "      <th>total_il_high_credit_limit</th>\n",
              "      <th>revol_bal_joint</th>\n",
              "      <th>sec_app_earliest_cr_line</th>\n",
              "      <th>sec_app_inq_last_6mths</th>\n",
              "      <th>sec_app_mort_acc</th>\n",
              "      <th>sec_app_open_acc</th>\n",
              "      <th>sec_app_revol_util</th>\n",
              "      <th>sec_app_open_act_il</th>\n",
              "      <th>sec_app_num_rev_accts</th>\n",
              "      <th>sec_app_chargeoff_within_12_mths</th>\n",
              "      <th>sec_app_collections_12_mths_ex_med</th>\n",
              "      <th>sec_app_mths_since_last_major_derog</th>\n",
              "      <th>hardship_flag</th>\n",
              "      <th>hardship_type</th>\n",
              "      <th>hardship_reason</th>\n",
              "      <th>hardship_status</th>\n",
              "      <th>deferral_term</th>\n",
              "      <th>hardship_amount</th>\n",
              "      <th>hardship_start_date</th>\n",
              "      <th>hardship_end_date</th>\n",
              "      <th>payment_plan_start_date</th>\n",
              "      <th>hardship_length</th>\n",
              "      <th>hardship_dpd</th>\n",
              "      <th>hardship_loan_status</th>\n",
              "      <th>orig_projected_additional_accrued_interest</th>\n",
              "      <th>hardship_payoff_balance_amount</th>\n",
              "      <th>hardship_last_payment_amount</th>\n",
              "      <th>debt_settlement_flag</th>\n",
              "      <th>debt_settlement_flag_date</th>\n",
              "      <th>settlement_status</th>\n",
              "      <th>settlement_date</th>\n",
              "      <th>settlement_amount</th>\n",
              "      <th>settlement_percentage</th>\n",
              "      <th>settlement_term</th>\n",
              "    </tr>\n",
              "  </thead>\n",
              "  <tbody>\n",
              "    <tr>\n",
              "      <th>0</th>\n",
              "      <td>NaN</td>\n",
              "      <td>NaN</td>\n",
              "      <td>20000</td>\n",
              "      <td>20000</td>\n",
              "      <td>20000.0</td>\n",
              "      <td>36 months</td>\n",
              "      <td>14.47%</td>\n",
              "      <td>688.13</td>\n",
              "      <td>C</td>\n",
              "      <td>C2</td>\n",
              "      <td>bus driver</td>\n",
              "      <td>4 years</td>\n",
              "      <td>OWN</td>\n",
              "      <td>52000.0</td>\n",
              "      <td>Source Verified</td>\n",
              "      <td>Dec-2018</td>\n",
              "      <td>Current</td>\n",
              "      <td>n</td>\n",
              "      <td>NaN</td>\n",
              "      <td>NaN</td>\n",
              "      <td>debt_consolidation</td>\n",
              "      <td>Debt consolidation</td>\n",
              "      <td>681xx</td>\n",
              "      <td>NE</td>\n",
              "      <td>30.65</td>\n",
              "      <td>1</td>\n",
              "      <td>Jun-1979</td>\n",
              "      <td>2</td>\n",
              "      <td>15.0</td>\n",
              "      <td>NaN</td>\n",
              "      <td>6</td>\n",
              "      <td>0</td>\n",
              "      <td>15048</td>\n",
              "      <td>73%</td>\n",
              "      <td>22</td>\n",
              "      <td>w</td>\n",
              "      <td>15777.74</td>\n",
              "      <td>15777.74</td>\n",
              "      <td>6104.740000</td>\n",
              "      <td>6104.74</td>\n",
              "      <td>...</td>\n",
              "      <td>50.0</td>\n",
              "      <td>0</td>\n",
              "      <td>0</td>\n",
              "      <td>61699</td>\n",
              "      <td>33157</td>\n",
              "      <td>20700</td>\n",
              "      <td>40999</td>\n",
              "      <td>NaN</td>\n",
              "      <td>NaN</td>\n",
              "      <td>NaN</td>\n",
              "      <td>NaN</td>\n",
              "      <td>NaN</td>\n",
              "      <td>NaN</td>\n",
              "      <td>NaN</td>\n",
              "      <td>NaN</td>\n",
              "      <td>NaN</td>\n",
              "      <td>NaN</td>\n",
              "      <td>NaN</td>\n",
              "      <td>N</td>\n",
              "      <td>NaN</td>\n",
              "      <td>NaN</td>\n",
              "      <td>NaN</td>\n",
              "      <td>NaN</td>\n",
              "      <td>NaN</td>\n",
              "      <td>NaN</td>\n",
              "      <td>NaN</td>\n",
              "      <td>NaN</td>\n",
              "      <td>NaN</td>\n",
              "      <td>NaN</td>\n",
              "      <td>NaN</td>\n",
              "      <td>NaN</td>\n",
              "      <td>NaN</td>\n",
              "      <td>NaN</td>\n",
              "      <td>N</td>\n",
              "      <td>NaN</td>\n",
              "      <td>NaN</td>\n",
              "      <td>NaN</td>\n",
              "      <td>NaN</td>\n",
              "      <td>NaN</td>\n",
              "      <td>NaN</td>\n",
              "    </tr>\n",
              "    <tr>\n",
              "      <th>1</th>\n",
              "      <td>NaN</td>\n",
              "      <td>NaN</td>\n",
              "      <td>25000</td>\n",
              "      <td>25000</td>\n",
              "      <td>25000.0</td>\n",
              "      <td>60 months</td>\n",
              "      <td>16.14%</td>\n",
              "      <td>609.82</td>\n",
              "      <td>C</td>\n",
              "      <td>C4</td>\n",
              "      <td>Production Manager</td>\n",
              "      <td>5 years</td>\n",
              "      <td>MORTGAGE</td>\n",
              "      <td>45000.0</td>\n",
              "      <td>Not Verified</td>\n",
              "      <td>Dec-2018</td>\n",
              "      <td>Fully Paid</td>\n",
              "      <td>n</td>\n",
              "      <td>NaN</td>\n",
              "      <td>NaN</td>\n",
              "      <td>debt_consolidation</td>\n",
              "      <td>Debt consolidation</td>\n",
              "      <td>703xx</td>\n",
              "      <td>LA</td>\n",
              "      <td>37.09</td>\n",
              "      <td>0</td>\n",
              "      <td>Sep-2003</td>\n",
              "      <td>0</td>\n",
              "      <td>NaN</td>\n",
              "      <td>NaN</td>\n",
              "      <td>7</td>\n",
              "      <td>0</td>\n",
              "      <td>8901</td>\n",
              "      <td>36.8%</td>\n",
              "      <td>21</td>\n",
              "      <td>w</td>\n",
              "      <td>0.00</td>\n",
              "      <td>0.00</td>\n",
              "      <td>26653.167580</td>\n",
              "      <td>26653.17</td>\n",
              "      <td>...</td>\n",
              "      <td>33.3</td>\n",
              "      <td>0</td>\n",
              "      <td>0</td>\n",
              "      <td>73683</td>\n",
              "      <td>49524</td>\n",
              "      <td>18600</td>\n",
              "      <td>49483</td>\n",
              "      <td>NaN</td>\n",
              "      <td>NaN</td>\n",
              "      <td>NaN</td>\n",
              "      <td>NaN</td>\n",
              "      <td>NaN</td>\n",
              "      <td>NaN</td>\n",
              "      <td>NaN</td>\n",
              "      <td>NaN</td>\n",
              "      <td>NaN</td>\n",
              "      <td>NaN</td>\n",
              "      <td>NaN</td>\n",
              "      <td>N</td>\n",
              "      <td>NaN</td>\n",
              "      <td>NaN</td>\n",
              "      <td>NaN</td>\n",
              "      <td>NaN</td>\n",
              "      <td>NaN</td>\n",
              "      <td>NaN</td>\n",
              "      <td>NaN</td>\n",
              "      <td>NaN</td>\n",
              "      <td>NaN</td>\n",
              "      <td>NaN</td>\n",
              "      <td>NaN</td>\n",
              "      <td>NaN</td>\n",
              "      <td>NaN</td>\n",
              "      <td>NaN</td>\n",
              "      <td>N</td>\n",
              "      <td>NaN</td>\n",
              "      <td>NaN</td>\n",
              "      <td>NaN</td>\n",
              "      <td>NaN</td>\n",
              "      <td>NaN</td>\n",
              "      <td>NaN</td>\n",
              "    </tr>\n",
              "    <tr>\n",
              "      <th>2</th>\n",
              "      <td>NaN</td>\n",
              "      <td>NaN</td>\n",
              "      <td>26500</td>\n",
              "      <td>26500</td>\n",
              "      <td>26500.0</td>\n",
              "      <td>60 months</td>\n",
              "      <td>11.31%</td>\n",
              "      <td>580.28</td>\n",
              "      <td>B</td>\n",
              "      <td>B3</td>\n",
              "      <td>Compliance Director</td>\n",
              "      <td>10+ years</td>\n",
              "      <td>MORTGAGE</td>\n",
              "      <td>134000.0</td>\n",
              "      <td>Source Verified</td>\n",
              "      <td>Dec-2018</td>\n",
              "      <td>Current</td>\n",
              "      <td>n</td>\n",
              "      <td>NaN</td>\n",
              "      <td>NaN</td>\n",
              "      <td>credit_card</td>\n",
              "      <td>Credit card refinancing</td>\n",
              "      <td>747xx</td>\n",
              "      <td>OK</td>\n",
              "      <td>18.91</td>\n",
              "      <td>0</td>\n",
              "      <td>Dec-2006</td>\n",
              "      <td>2</td>\n",
              "      <td>NaN</td>\n",
              "      <td>NaN</td>\n",
              "      <td>17</td>\n",
              "      <td>0</td>\n",
              "      <td>43640</td>\n",
              "      <td>65.4%</td>\n",
              "      <td>37</td>\n",
              "      <td>w</td>\n",
              "      <td>23410.70</td>\n",
              "      <td>23410.70</td>\n",
              "      <td>5197.540000</td>\n",
              "      <td>5197.54</td>\n",
              "      <td>...</td>\n",
              "      <td>66.7</td>\n",
              "      <td>0</td>\n",
              "      <td>0</td>\n",
              "      <td>430403</td>\n",
              "      <td>107975</td>\n",
              "      <td>49300</td>\n",
              "      <td>88875</td>\n",
              "      <td>NaN</td>\n",
              "      <td>NaN</td>\n",
              "      <td>NaN</td>\n",
              "      <td>NaN</td>\n",
              "      <td>NaN</td>\n",
              "      <td>NaN</td>\n",
              "      <td>NaN</td>\n",
              "      <td>NaN</td>\n",
              "      <td>NaN</td>\n",
              "      <td>NaN</td>\n",
              "      <td>NaN</td>\n",
              "      <td>N</td>\n",
              "      <td>NaN</td>\n",
              "      <td>NaN</td>\n",
              "      <td>NaN</td>\n",
              "      <td>NaN</td>\n",
              "      <td>NaN</td>\n",
              "      <td>NaN</td>\n",
              "      <td>NaN</td>\n",
              "      <td>NaN</td>\n",
              "      <td>NaN</td>\n",
              "      <td>NaN</td>\n",
              "      <td>NaN</td>\n",
              "      <td>NaN</td>\n",
              "      <td>NaN</td>\n",
              "      <td>NaN</td>\n",
              "      <td>N</td>\n",
              "      <td>NaN</td>\n",
              "      <td>NaN</td>\n",
              "      <td>NaN</td>\n",
              "      <td>NaN</td>\n",
              "      <td>NaN</td>\n",
              "      <td>NaN</td>\n",
              "    </tr>\n",
              "    <tr>\n",
              "      <th>3</th>\n",
              "      <td>NaN</td>\n",
              "      <td>NaN</td>\n",
              "      <td>10400</td>\n",
              "      <td>10400</td>\n",
              "      <td>10400.0</td>\n",
              "      <td>36 months</td>\n",
              "      <td>12.98%</td>\n",
              "      <td>350.32</td>\n",
              "      <td>B</td>\n",
              "      <td>B5</td>\n",
              "      <td>Program Support Assistant</td>\n",
              "      <td>10+ years</td>\n",
              "      <td>MORTGAGE</td>\n",
              "      <td>56099.0</td>\n",
              "      <td>Source Verified</td>\n",
              "      <td>Dec-2018</td>\n",
              "      <td>Current</td>\n",
              "      <td>n</td>\n",
              "      <td>NaN</td>\n",
              "      <td>NaN</td>\n",
              "      <td>credit_card</td>\n",
              "      <td>Credit card refinancing</td>\n",
              "      <td>800xx</td>\n",
              "      <td>CO</td>\n",
              "      <td>20.92</td>\n",
              "      <td>0</td>\n",
              "      <td>Jul-2013</td>\n",
              "      <td>2</td>\n",
              "      <td>32.0</td>\n",
              "      <td>67.0</td>\n",
              "      <td>8</td>\n",
              "      <td>1</td>\n",
              "      <td>1669</td>\n",
              "      <td>9.8%</td>\n",
              "      <td>10</td>\n",
              "      <td>w</td>\n",
              "      <td>8164.57</td>\n",
              "      <td>8164.57</td>\n",
              "      <td>3141.630000</td>\n",
              "      <td>3141.63</td>\n",
              "      <td>...</td>\n",
              "      <td>0.0</td>\n",
              "      <td>1</td>\n",
              "      <td>0</td>\n",
              "      <td>60709</td>\n",
              "      <td>39564</td>\n",
              "      <td>17000</td>\n",
              "      <td>43709</td>\n",
              "      <td>NaN</td>\n",
              "      <td>NaN</td>\n",
              "      <td>NaN</td>\n",
              "      <td>NaN</td>\n",
              "      <td>NaN</td>\n",
              "      <td>NaN</td>\n",
              "      <td>NaN</td>\n",
              "      <td>NaN</td>\n",
              "      <td>NaN</td>\n",
              "      <td>NaN</td>\n",
              "      <td>NaN</td>\n",
              "      <td>N</td>\n",
              "      <td>NaN</td>\n",
              "      <td>NaN</td>\n",
              "      <td>NaN</td>\n",
              "      <td>NaN</td>\n",
              "      <td>NaN</td>\n",
              "      <td>NaN</td>\n",
              "      <td>NaN</td>\n",
              "      <td>NaN</td>\n",
              "      <td>NaN</td>\n",
              "      <td>NaN</td>\n",
              "      <td>NaN</td>\n",
              "      <td>NaN</td>\n",
              "      <td>NaN</td>\n",
              "      <td>NaN</td>\n",
              "      <td>N</td>\n",
              "      <td>NaN</td>\n",
              "      <td>NaN</td>\n",
              "      <td>NaN</td>\n",
              "      <td>NaN</td>\n",
              "      <td>NaN</td>\n",
              "      <td>NaN</td>\n",
              "    </tr>\n",
              "    <tr>\n",
              "      <th>4</th>\n",
              "      <td>NaN</td>\n",
              "      <td>NaN</td>\n",
              "      <td>35000</td>\n",
              "      <td>35000</td>\n",
              "      <td>35000.0</td>\n",
              "      <td>60 months</td>\n",
              "      <td>12.98%</td>\n",
              "      <td>796.00</td>\n",
              "      <td>B</td>\n",
              "      <td>B5</td>\n",
              "      <td>Sr. Vice President -Risk Manager</td>\n",
              "      <td>7 years</td>\n",
              "      <td>MORTGAGE</td>\n",
              "      <td>211646.0</td>\n",
              "      <td>Source Verified</td>\n",
              "      <td>Dec-2018</td>\n",
              "      <td>Fully Paid</td>\n",
              "      <td>n</td>\n",
              "      <td>NaN</td>\n",
              "      <td>NaN</td>\n",
              "      <td>debt_consolidation</td>\n",
              "      <td>Debt consolidation</td>\n",
              "      <td>797xx</td>\n",
              "      <td>TX</td>\n",
              "      <td>15.09</td>\n",
              "      <td>0</td>\n",
              "      <td>Sep-1985</td>\n",
              "      <td>0</td>\n",
              "      <td>77.0</td>\n",
              "      <td>NaN</td>\n",
              "      <td>13</td>\n",
              "      <td>0</td>\n",
              "      <td>55944</td>\n",
              "      <td>74.9%</td>\n",
              "      <td>39</td>\n",
              "      <td>w</td>\n",
              "      <td>0.00</td>\n",
              "      <td>0.00</td>\n",
              "      <td>36266.741552</td>\n",
              "      <td>36266.74</td>\n",
              "      <td>...</td>\n",
              "      <td>66.7</td>\n",
              "      <td>0</td>\n",
              "      <td>0</td>\n",
              "      <td>516204</td>\n",
              "      <td>82514</td>\n",
              "      <td>59700</td>\n",
              "      <td>51904</td>\n",
              "      <td>88364.0</td>\n",
              "      <td>Sep-1985</td>\n",
              "      <td>0.0</td>\n",
              "      <td>6.0</td>\n",
              "      <td>19.0</td>\n",
              "      <td>53.4</td>\n",
              "      <td>2.0</td>\n",
              "      <td>29.0</td>\n",
              "      <td>0.0</td>\n",
              "      <td>0.0</td>\n",
              "      <td>NaN</td>\n",
              "      <td>N</td>\n",
              "      <td>NaN</td>\n",
              "      <td>NaN</td>\n",
              "      <td>NaN</td>\n",
              "      <td>NaN</td>\n",
              "      <td>NaN</td>\n",
              "      <td>NaN</td>\n",
              "      <td>NaN</td>\n",
              "      <td>NaN</td>\n",
              "      <td>NaN</td>\n",
              "      <td>NaN</td>\n",
              "      <td>NaN</td>\n",
              "      <td>NaN</td>\n",
              "      <td>NaN</td>\n",
              "      <td>NaN</td>\n",
              "      <td>N</td>\n",
              "      <td>NaN</td>\n",
              "      <td>NaN</td>\n",
              "      <td>NaN</td>\n",
              "      <td>NaN</td>\n",
              "      <td>NaN</td>\n",
              "      <td>NaN</td>\n",
              "    </tr>\n",
              "  </tbody>\n",
              "</table>\n",
              "<p>5 rows × 144 columns</p>\n",
              "</div>"
            ],
            "text/plain": [
              "   id  member_id  ...  settlement_percentage  settlement_term\n",
              "0 NaN        NaN  ...                    NaN              NaN\n",
              "1 NaN        NaN  ...                    NaN              NaN\n",
              "2 NaN        NaN  ...                    NaN              NaN\n",
              "3 NaN        NaN  ...                    NaN              NaN\n",
              "4 NaN        NaN  ...                    NaN              NaN\n",
              "\n",
              "[5 rows x 144 columns]"
            ]
          },
          "metadata": {
            "tags": []
          },
          "execution_count": 13
        }
      ]
    },
    {
      "cell_type": "code",
      "metadata": {
        "id": "-EVaD3Mn6aY0",
        "colab_type": "code",
        "outputId": "f78d87a0-50ea-40da-a1c9-49bf6c559b51",
        "colab": {
          "base_uri": "https://localhost:8080/",
          "height": 197
        }
      },
      "source": [
        "print(df.shape)\n",
        "print(df.columns)"
      ],
      "execution_count": 0,
      "outputs": [
        {
          "output_type": "stream",
          "text": [
            "(128412, 144)\n",
            "Index(['id', 'member_id', 'loan_amnt', 'funded_amnt', 'funded_amnt_inv',\n",
            "       'term', 'int_rate', 'installment', 'grade', 'sub_grade',\n",
            "       ...\n",
            "       'orig_projected_additional_accrued_interest',\n",
            "       'hardship_payoff_balance_amount', 'hardship_last_payment_amount',\n",
            "       'debt_settlement_flag', 'debt_settlement_flag_date',\n",
            "       'settlement_status', 'settlement_date', 'settlement_amount',\n",
            "       'settlement_percentage', 'settlement_term'],\n",
            "      dtype='object', length=144)\n"
          ],
          "name": "stdout"
        }
      ]
    },
    {
      "cell_type": "code",
      "metadata": {
        "id": "SQwzUQ_x7YeD",
        "colab_type": "code",
        "outputId": "c2f9d86d-56f4-45d5-afea-aefa29cb87ab",
        "colab": {
          "base_uri": "https://localhost:8080/",
          "height": 1000
        }
      },
      "source": [
        "# How much missing data do I have?\n",
        "pd.options.display.max_rows=999\n",
        "pd.options.display.max_columns=100\n",
        "\n",
        "df.isnull().sum().sort_values(ascending=False)"
      ],
      "execution_count": 0,
      "outputs": [
        {
          "output_type": "execute_result",
          "data": {
            "text/plain": [
              "id                                            128412\n",
              "desc                                          128412\n",
              "member_id                                     128412\n",
              "url                                           128412\n",
              "orig_projected_additional_accrued_interest    128345\n",
              "hardship_type                                 128343\n",
              "hardship_last_payment_amount                  128343\n",
              "hardship_payoff_balance_amount                128343\n",
              "hardship_reason                               128343\n",
              "hardship_loan_status                          128343\n",
              "hardship_dpd                                  128343\n",
              "hardship_length                               128343\n",
              "payment_plan_start_date                       128343\n",
              "hardship_end_date                             128343\n",
              "hardship_start_date                           128343\n",
              "hardship_amount                               128343\n",
              "deferral_term                                 128343\n",
              "hardship_status                               128343\n",
              "settlement_percentage                         128244\n",
              "settlement_term                               128244\n",
              "settlement_status                             128244\n",
              "settlement_amount                             128244\n",
              "settlement_date                               128244\n",
              "debt_settlement_flag_date                     128244\n",
              "sec_app_mths_since_last_major_derog           123258\n",
              "verification_status_joint                     113564\n",
              "mths_since_last_record                        112962\n",
              "sec_app_revol_util                            111888\n",
              "sec_app_open_act_il                           111630\n",
              "sec_app_num_rev_accts                         111630\n",
              "sec_app_chargeoff_within_12_mths              111630\n",
              "sec_app_collections_12_mths_ex_med            111630\n",
              "dti_joint                                     111630\n",
              "annual_inc_joint                              111630\n",
              "revol_bal_joint                               111630\n",
              "sec_app_earliest_cr_line                      111630\n",
              "sec_app_inq_last_6mths                        111630\n",
              "sec_app_mort_acc                              111630\n",
              "sec_app_open_acc                              111630\n",
              "mths_since_recent_bc_dlq                      103243\n",
              "mths_since_last_major_derog                    99232\n",
              "mths_since_recent_revol_delinq                 91630\n",
              "mths_since_last_delinq                         72196\n",
              "emp_title                                      20947\n",
              "il_util                                        20274\n",
              "next_pymnt_d                                   18643\n",
              "mths_since_recent_inq                          16047\n",
              "emp_length                                     11704\n",
              "mo_sin_old_il_acct                              4478\n",
              "mths_since_rcnt_il                              4478\n",
              "num_tl_120dpd_2m                                2859\n",
              "bc_util                                         1754\n",
              "percent_bc_gt_75                                1692\n",
              "bc_open_to_buy                                  1691\n",
              "mths_since_recent_bc                            1591\n",
              "dti                                              237\n",
              "last_pymnt_d                                     159\n",
              "revol_util                                       156\n",
              "all_util                                          37\n",
              "avg_cur_bal                                       13\n",
              "last_credit_pull_d                                 1\n",
              "int_rate                                           0\n",
              "initial_list_status                                0\n",
              "out_prncp                                          0\n",
              "out_prncp_inv                                      0\n",
              "total_pymnt                                        0\n",
              "total_pymnt_inv                                    0\n",
              "total_rec_prncp                                    0\n",
              "purpose                                            0\n",
              "total_rec_int                                      0\n",
              "total_acc                                          0\n",
              "funded_amnt_inv                                    0\n",
              "funded_amnt                                        0\n",
              "total_rec_late_fee                                 0\n",
              "recoveries                                         0\n",
              "loan_amnt                                          0\n",
              "collection_recovery_fee                            0\n",
              "term                                               0\n",
              "revol_bal                                          0\n",
              "installment                                        0\n",
              "pymnt_plan                                         0\n",
              "loan_status                                        0\n",
              "title                                              0\n",
              "zip_code                                           0\n",
              "addr_state                                         0\n",
              "issue_d                                            0\n",
              "delinq_2yrs                                        0\n",
              "earliest_cr_line                                   0\n",
              "verification_status                                0\n",
              "annual_inc                                         0\n",
              "inq_last_6mths                                     0\n",
              "home_ownership                                     0\n",
              "sub_grade                                          0\n",
              "grade                                              0\n",
              "open_acc                                           0\n",
              "pub_rec                                            0\n",
              "debt_settlement_flag                               0\n",
              "open_il_12m                                        0\n",
              "last_pymnt_amnt                                    0\n",
              "num_sats                                           0\n",
              "num_accts_ever_120_pd                              0\n",
              "num_actv_bc_tl                                     0\n",
              "num_actv_rev_tl                                    0\n",
              "num_bc_sats                                        0\n",
              "num_bc_tl                                          0\n",
              "num_il_tl                                          0\n",
              "num_op_rev_tl                                      0\n",
              "num_rev_accts                                      0\n",
              "num_rev_tl_bal_gt_0                                0\n",
              "num_tl_30dpd                                       0\n",
              "collections_12_mths_ex_med                         0\n",
              "num_tl_90g_dpd_24m                                 0\n",
              "num_tl_op_past_12m                                 0\n",
              "pct_tl_nvr_dlq                                     0\n",
              "pub_rec_bankruptcies                               0\n",
              "tax_liens                                          0\n",
              "tot_hi_cred_lim                                    0\n",
              "total_bal_ex_mort                                  0\n",
              "total_bc_limit                                     0\n",
              "total_il_high_credit_limit                         0\n",
              "mort_acc                                           0\n",
              "mo_sin_rcnt_tl                                     0\n",
              "mo_sin_rcnt_rev_tl_op                              0\n",
              "mo_sin_old_rev_tl_op                               0\n",
              "policy_code                                        0\n",
              "application_type                                   0\n",
              "acc_now_delinq                                     0\n",
              "tot_coll_amt                                       0\n",
              "tot_cur_bal                                        0\n",
              "open_acc_6m                                        0\n",
              "open_act_il                                        0\n",
              "hardship_flag                                      0\n",
              "open_il_24m                                        0\n",
              "total_bal_il                                       0\n",
              "open_rv_12m                                        0\n",
              "open_rv_24m                                        0\n",
              "max_bal_bc                                         0\n",
              "total_rev_hi_lim                                   0\n",
              "total_cu_tl                                        0\n",
              "inq_last_12m                                       0\n",
              "acc_open_past_24mths                               0\n",
              "chargeoff_within_12_mths                           0\n",
              "delinq_amnt                                        0\n",
              "inq_fi                                             0\n",
              "dtype: int64"
            ]
          },
          "metadata": {
            "tags": []
          },
          "execution_count": 18
        }
      ]
    },
    {
      "cell_type": "markdown",
      "metadata": {
        "colab_type": "text",
        "id": "1b5_hMTio2Ly"
      },
      "source": [
        "## Work with strings"
      ]
    },
    {
      "cell_type": "markdown",
      "metadata": {
        "id": "QJV0YKsAyNGd",
        "colab_type": "text"
      },
      "source": [
        "For machine learning, we usually want to replace strings with numbers.\n",
        "\n",
        "We can get info about which columns have a datatype of \"object\" (strings)"
      ]
    },
    {
      "cell_type": "code",
      "metadata": {
        "colab_type": "code",
        "id": "WOL7QPVNo3F4",
        "outputId": "685d5bef-bdb8-4056-9a57-c4c3b5034e66",
        "colab": {
          "base_uri": "https://localhost:8080/",
          "height": 125
        }
      },
      "source": [
        "#Let's identify a column that shouldn't be a string.\n",
        "df['int_rate'].head()"
      ],
      "execution_count": 0,
      "outputs": [
        {
          "output_type": "execute_result",
          "data": {
            "text/plain": [
              "0     14.47%\n",
              "1     16.14%\n",
              "2     11.31%\n",
              "3     12.98%\n",
              "4     12.98%\n",
              "Name: int_rate, dtype: object"
            ]
          },
          "metadata": {
            "tags": []
          },
          "execution_count": 19
        }
      ]
    },
    {
      "cell_type": "code",
      "metadata": {
        "id": "Iywfwfmi9CoS",
        "colab_type": "code",
        "outputId": "b2b81846-fd05-4794-93ea-e6bca1e378fa",
        "colab": {
          "base_uri": "https://localhost:8080/",
          "height": 35
        }
      },
      "source": [
        "df['int_rate'].dtype"
      ],
      "execution_count": 0,
      "outputs": [
        {
          "output_type": "execute_result",
          "data": {
            "text/plain": [
              "dtype('O')"
            ]
          },
          "metadata": {
            "tags": []
          },
          "execution_count": 20
        }
      ]
    },
    {
      "cell_type": "code",
      "metadata": {
        "id": "nn2iblIQ9IT0",
        "colab_type": "code",
        "outputId": "a7d80c94-9fed-4161-f978-f6edae9f94d0",
        "colab": {
          "base_uri": "https://localhost:8080/",
          "height": 53
        }
      },
      "source": [
        "int_rate0=df.loc[0, 'int_rate']\n",
        "print(int_rate0)\n",
        "int_rate0"
      ],
      "execution_count": 0,
      "outputs": [
        {
          "output_type": "stream",
          "text": [
            " 14.47%\n"
          ],
          "name": "stdout"
        },
        {
          "output_type": "execute_result",
          "data": {
            "text/plain": [
              "' 14.47%'"
            ]
          },
          "metadata": {
            "tags": []
          },
          "execution_count": 22
        }
      ]
    },
    {
      "cell_type": "code",
      "metadata": {
        "id": "YiIeVT9N98Lr",
        "colab_type": "code",
        "outputId": "1b61c105-9292-4342-d31d-81daff52cd66",
        "colab": {
          "base_uri": "https://localhost:8080/",
          "height": 35
        }
      },
      "source": [
        "#get rid of the percent sign\n",
        "int_rate0.strip()"
      ],
      "execution_count": 0,
      "outputs": [
        {
          "output_type": "execute_result",
          "data": {
            "text/plain": [
              "'14.47%'"
            ]
          },
          "metadata": {
            "tags": []
          },
          "execution_count": 24
        }
      ]
    },
    {
      "cell_type": "code",
      "metadata": {
        "id": "G9y6pvhU97KY",
        "colab_type": "code",
        "outputId": "fc5d15ea-def5-4c5d-fccf-80932c88bbb8",
        "colab": {
          "base_uri": "https://localhost:8080/",
          "height": 35
        }
      },
      "source": [
        "#get rid of percent sign\n",
        "int_rate0.strip('%')"
      ],
      "execution_count": 0,
      "outputs": [
        {
          "output_type": "execute_result",
          "data": {
            "text/plain": [
              "' 14.47'"
            ]
          },
          "metadata": {
            "tags": []
          },
          "execution_count": 25
        }
      ]
    },
    {
      "cell_type": "code",
      "metadata": {
        "id": "bFTwRgSv-QpC",
        "colab_type": "code",
        "outputId": "71afcb01-72de-4349-9945-3451e27ee2c9",
        "colab": {
          "base_uri": "https://localhost:8080/",
          "height": 35
        }
      },
      "source": [
        "int_rate0.strip().strip('%')"
      ],
      "execution_count": 0,
      "outputs": [
        {
          "output_type": "execute_result",
          "data": {
            "text/plain": [
              "'14.47'"
            ]
          },
          "metadata": {
            "tags": []
          },
          "execution_count": 26
        }
      ]
    },
    {
      "cell_type": "code",
      "metadata": {
        "id": "Grd5jq0h-ZEs",
        "colab_type": "code",
        "outputId": "33a35afa-934e-4d86-83aa-12a9303c8f70",
        "colab": {
          "base_uri": "https://localhost:8080/",
          "height": 35
        }
      },
      "source": [
        "#confirm that we did what we wanted\n",
        "type(int_rate0.strip().strip('%'))\n",
        "type(float(int_rate0.strip().strip('%')))"
      ],
      "execution_count": 0,
      "outputs": [
        {
          "output_type": "execute_result",
          "data": {
            "text/plain": [
              "float"
            ]
          },
          "metadata": {
            "tags": []
          },
          "execution_count": 27
        }
      ]
    },
    {
      "cell_type": "markdown",
      "metadata": {
        "id": "2qThJYVayNGg",
        "colab_type": "text"
      },
      "source": [
        "### Convert `int_rate`\n",
        "\n",
        "Define a function to remove percent signs from strings and convert to floats"
      ]
    },
    {
      "cell_type": "code",
      "metadata": {
        "id": "jzXB9lKCyNGh",
        "colab_type": "code",
        "colab": {}
      },
      "source": [
        "# write your function\n",
        "def int_rate_2_float(mystring):\n",
        "  return float(mystring.strip().strip('%'))"
      ],
      "execution_count": 0,
      "outputs": []
    },
    {
      "cell_type": "code",
      "metadata": {
        "id": "Mpj4rS9myNGk",
        "colab_type": "code",
        "outputId": "c3dbc71d-7ceb-452e-b2b3-74783e2dd2d8",
        "colab": {
          "base_uri": "https://localhost:8080/",
          "height": 35
        }
      },
      "source": [
        "# test your function\n",
        "int_rate_2_float(int_rate0)"
      ],
      "execution_count": 0,
      "outputs": [
        {
          "output_type": "execute_result",
          "data": {
            "text/plain": [
              "14.47"
            ]
          },
          "metadata": {
            "tags": []
          },
          "execution_count": 32
        }
      ]
    },
    {
      "cell_type": "markdown",
      "metadata": {
        "id": "-XyfID8AyNGj",
        "colab_type": "text"
      },
      "source": [
        "Apply the function to the `int_rate` column"
      ]
    },
    {
      "cell_type": "code",
      "metadata": {
        "id": "W2Wk8lsS_F4m",
        "colab_type": "code",
        "outputId": "203b89db-9081-4254-eedb-6b2d2e2fb57a",
        "colab": {
          "base_uri": "https://localhost:8080/",
          "height": 161
        }
      },
      "source": [
        "df['int_rate_float']=df['int_rate'].apply(int_rate_2_float)\n",
        "df.columns"
      ],
      "execution_count": 0,
      "outputs": [
        {
          "output_type": "execute_result",
          "data": {
            "text/plain": [
              "Index(['id', 'member_id', 'loan_amnt', 'funded_amnt', 'funded_amnt_inv',\n",
              "       'term', 'int_rate', 'installment', 'grade', 'sub_grade',\n",
              "       ...\n",
              "       'hardship_payoff_balance_amount', 'hardship_last_payment_amount',\n",
              "       'debt_settlement_flag', 'debt_settlement_flag_date',\n",
              "       'settlement_status', 'settlement_date', 'settlement_amount',\n",
              "       'settlement_percentage', 'settlement_term', 'int_rate_float'],\n",
              "      dtype='object', length=145)"
            ]
          },
          "metadata": {
            "tags": []
          },
          "execution_count": 33
        }
      ]
    },
    {
      "cell_type": "code",
      "metadata": {
        "id": "o6H2Wknm_5Rt",
        "colab_type": "code",
        "outputId": "5f007808-3662-4ba9-ca74-af7c17ed7372",
        "colab": {
          "base_uri": "https://localhost:8080/",
          "height": 204
        }
      },
      "source": [
        "df[['int_rate', 'int_rate_float']].head()"
      ],
      "execution_count": 0,
      "outputs": [
        {
          "output_type": "execute_result",
          "data": {
            "text/html": [
              "<div>\n",
              "<style scoped>\n",
              "    .dataframe tbody tr th:only-of-type {\n",
              "        vertical-align: middle;\n",
              "    }\n",
              "\n",
              "    .dataframe tbody tr th {\n",
              "        vertical-align: top;\n",
              "    }\n",
              "\n",
              "    .dataframe thead th {\n",
              "        text-align: right;\n",
              "    }\n",
              "</style>\n",
              "<table border=\"1\" class=\"dataframe\">\n",
              "  <thead>\n",
              "    <tr style=\"text-align: right;\">\n",
              "      <th></th>\n",
              "      <th>int_rate</th>\n",
              "      <th>int_rate_float</th>\n",
              "    </tr>\n",
              "  </thead>\n",
              "  <tbody>\n",
              "    <tr>\n",
              "      <th>0</th>\n",
              "      <td>14.47%</td>\n",
              "      <td>14.47</td>\n",
              "    </tr>\n",
              "    <tr>\n",
              "      <th>1</th>\n",
              "      <td>16.14%</td>\n",
              "      <td>16.14</td>\n",
              "    </tr>\n",
              "    <tr>\n",
              "      <th>2</th>\n",
              "      <td>11.31%</td>\n",
              "      <td>11.31</td>\n",
              "    </tr>\n",
              "    <tr>\n",
              "      <th>3</th>\n",
              "      <td>12.98%</td>\n",
              "      <td>12.98</td>\n",
              "    </tr>\n",
              "    <tr>\n",
              "      <th>4</th>\n",
              "      <td>12.98%</td>\n",
              "      <td>12.98</td>\n",
              "    </tr>\n",
              "  </tbody>\n",
              "</table>\n",
              "</div>"
            ],
            "text/plain": [
              "  int_rate  int_rate_float\n",
              "0   14.47%           14.47\n",
              "1   16.14%           16.14\n",
              "2   11.31%           11.31\n",
              "3   12.98%           12.98\n",
              "4   12.98%           12.98"
            ]
          },
          "metadata": {
            "tags": []
          },
          "execution_count": 35
        }
      ]
    },
    {
      "cell_type": "markdown",
      "metadata": {
        "id": "EyD92vNFyNGm",
        "colab_type": "text"
      },
      "source": [
        "### Clean `emp_title`\n",
        "\n",
        "Look at top 20 titles"
      ]
    },
    {
      "cell_type": "code",
      "metadata": {
        "id": "W242mH9XyNGm",
        "colab_type": "code",
        "outputId": "9330c85f-0ec1-40c2-f0ab-b7fdfb41a2e0",
        "colab": {
          "base_uri": "https://localhost:8080/",
          "height": 235
        }
      },
      "source": [
        "df[['emp_title', 'int_rate']].sample(6)"
      ],
      "execution_count": 0,
      "outputs": [
        {
          "output_type": "execute_result",
          "data": {
            "text/html": [
              "<div>\n",
              "<style scoped>\n",
              "    .dataframe tbody tr th:only-of-type {\n",
              "        vertical-align: middle;\n",
              "    }\n",
              "\n",
              "    .dataframe tbody tr th {\n",
              "        vertical-align: top;\n",
              "    }\n",
              "\n",
              "    .dataframe thead th {\n",
              "        text-align: right;\n",
              "    }\n",
              "</style>\n",
              "<table border=\"1\" class=\"dataframe\">\n",
              "  <thead>\n",
              "    <tr style=\"text-align: right;\">\n",
              "      <th></th>\n",
              "      <th>emp_title</th>\n",
              "      <th>int_rate</th>\n",
              "    </tr>\n",
              "  </thead>\n",
              "  <tbody>\n",
              "    <tr>\n",
              "      <th>46597</th>\n",
              "      <td>LONGSHOREMAN</td>\n",
              "      <td>23.40%</td>\n",
              "    </tr>\n",
              "    <tr>\n",
              "      <th>117815</th>\n",
              "      <td>web master</td>\n",
              "      <td>17.97%</td>\n",
              "    </tr>\n",
              "    <tr>\n",
              "      <th>48038</th>\n",
              "      <td>Maintainence Engineer</td>\n",
              "      <td>14.47%</td>\n",
              "    </tr>\n",
              "    <tr>\n",
              "      <th>25729</th>\n",
              "      <td>Certified Surgical Technologist</td>\n",
              "      <td>16.91%</td>\n",
              "    </tr>\n",
              "    <tr>\n",
              "      <th>75248</th>\n",
              "      <td>Teacher</td>\n",
              "      <td>16.14%</td>\n",
              "    </tr>\n",
              "    <tr>\n",
              "      <th>103278</th>\n",
              "      <td>Master Quality Auditor</td>\n",
              "      <td>16.14%</td>\n",
              "    </tr>\n",
              "  </tbody>\n",
              "</table>\n",
              "</div>"
            ],
            "text/plain": [
              "                              emp_title int_rate\n",
              "46597                      LONGSHOREMAN   23.40%\n",
              "117815                       web master   17.97%\n",
              "48038             Maintainence Engineer   14.47%\n",
              "25729   Certified Surgical Technologist   16.91%\n",
              "75248                           Teacher   16.14%\n",
              "103278           Master Quality Auditor   16.14%"
            ]
          },
          "metadata": {
            "tags": []
          },
          "execution_count": 36
        }
      ]
    },
    {
      "cell_type": "markdown",
      "metadata": {
        "id": "115y_DNbyNGp",
        "colab_type": "text"
      },
      "source": [
        "How often is `emp_title` null?"
      ]
    },
    {
      "cell_type": "code",
      "metadata": {
        "id": "lOE1c3bOyNGq",
        "colab_type": "code",
        "outputId": "e542dcb2-0343-4baa-d5e5-9e66615ef36f",
        "colab": {
          "base_uri": "https://localhost:8080/",
          "height": 35
        }
      },
      "source": [
        "# what are all possible titles?\n",
        "df['emp_title'].nunique()"
      ],
      "execution_count": 0,
      "outputs": [
        {
          "output_type": "execute_result",
          "data": {
            "text/plain": [
              "43892"
            ]
          },
          "metadata": {
            "tags": []
          },
          "execution_count": 37
        }
      ]
    },
    {
      "cell_type": "code",
      "metadata": {
        "id": "KK38zAEbAmJc",
        "colab_type": "code",
        "outputId": "cf342d42-5016-4ede-af7c-b39a9fbb1eca",
        "colab": {
          "base_uri": "https://localhost:8080/",
          "height": 125
        }
      },
      "source": [
        "df['emp_title'].value_counts(ascending=False, dropna=False).head()"
      ],
      "execution_count": 0,
      "outputs": [
        {
          "output_type": "execute_result",
          "data": {
            "text/plain": [
              "NaN                 20947\n",
              "Teacher              2090\n",
              "Manager              1773\n",
              "Registered Nurse      952\n",
              "Driver                924\n",
              "Name: emp_title, dtype: int64"
            ]
          },
          "metadata": {
            "tags": []
          },
          "execution_count": 38
        }
      ]
    },
    {
      "cell_type": "code",
      "metadata": {
        "id": "l6CKclKFAyio",
        "colab_type": "code",
        "outputId": "be51308d-8dc7-477f-8691-fe10d6e9666f",
        "colab": {
          "base_uri": "https://localhost:8080/",
          "height": 35
        }
      },
      "source": [
        "df['emp_title'].isnull().sum()"
      ],
      "execution_count": 0,
      "outputs": [
        {
          "output_type": "execute_result",
          "data": {
            "text/plain": [
              "20947"
            ]
          },
          "metadata": {
            "tags": []
          },
          "execution_count": 39
        }
      ]
    },
    {
      "cell_type": "markdown",
      "metadata": {
        "id": "PKGA99d5yNGt",
        "colab_type": "text"
      },
      "source": [
        "Clean the title and handle missing values"
      ]
    },
    {
      "cell_type": "code",
      "metadata": {
        "id": "t6IRMyv1yNGu",
        "colab_type": "code",
        "outputId": "73f6872c-d5f8-4d76-b40a-c1d713fe0135",
        "colab": {
          "base_uri": "https://localhost:8080/",
          "height": 35
        }
      },
      "source": [
        "df['emp_title'].notnull().sum()"
      ],
      "execution_count": 0,
      "outputs": [
        {
          "output_type": "execute_result",
          "data": {
            "text/plain": [
              "107465"
            ]
          },
          "metadata": {
            "tags": []
          },
          "execution_count": 40
        }
      ]
    },
    {
      "cell_type": "code",
      "metadata": {
        "id": "5OLDme8qBDaZ",
        "colab_type": "code",
        "outputId": "40e7ee29-cfaa-4a29-9dff-7e6b4408f1f9",
        "colab": {
          "base_uri": "https://localhost:8080/",
          "height": 35
        }
      },
      "source": [
        "import numpy as np\n",
        "type(np.NaN)"
      ],
      "execution_count": 0,
      "outputs": [
        {
          "output_type": "execute_result",
          "data": {
            "text/plain": [
              "float"
            ]
          },
          "metadata": {
            "tags": []
          },
          "execution_count": 41
        }
      ]
    },
    {
      "cell_type": "code",
      "metadata": {
        "id": "QKIxG3qaBJ2R",
        "colab_type": "code",
        "outputId": "6d903083-6006-45f3-a8a4-fa8070379c77",
        "colab": {
          "base_uri": "https://localhost:8080/",
          "height": 89
        }
      },
      "source": [
        "# Write a function to clean up our titles\n",
        "def clean_title(title):\n",
        "  if isinstance(title, str):\n",
        "    return title.strip().title()\n",
        "  else:\n",
        "    return 'Unknown'\n",
        "\n",
        "examples=['owner', 'Supervisor', 'Project Manager', np.NaN]\n",
        "\n",
        "for item in examples:\n",
        "  print(clean_title(item))"
      ],
      "execution_count": 0,
      "outputs": [
        {
          "output_type": "stream",
          "text": [
            "Owner\n",
            "Supervisor\n",
            "Project Manager\n",
            "Unknown\n"
          ],
          "name": "stdout"
        }
      ]
    },
    {
      "cell_type": "code",
      "metadata": {
        "id": "RT4tWZqqCVaW",
        "colab_type": "code",
        "outputId": "bba41ac6-a1f6-4633-eb77-808533463c7e",
        "colab": {
          "base_uri": "https://localhost:8080/",
          "height": 161
        }
      },
      "source": [
        "df['emp_title_clean']=df['emp_title'].apply(clean_title)\n",
        "df.columns"
      ],
      "execution_count": 0,
      "outputs": [
        {
          "output_type": "execute_result",
          "data": {
            "text/plain": [
              "Index(['id', 'member_id', 'loan_amnt', 'funded_amnt', 'funded_amnt_inv',\n",
              "       'term', 'int_rate', 'installment', 'grade', 'sub_grade',\n",
              "       ...\n",
              "       'hardship_last_payment_amount', 'debt_settlement_flag',\n",
              "       'debt_settlement_flag_date', 'settlement_status', 'settlement_date',\n",
              "       'settlement_amount', 'settlement_percentage', 'settlement_term',\n",
              "       'int_rate_float', 'emp_title_clean'],\n",
              "      dtype='object', length=146)"
            ]
          },
          "metadata": {
            "tags": []
          },
          "execution_count": 46
        }
      ]
    },
    {
      "cell_type": "code",
      "metadata": {
        "id": "y_sAwtXaCrSi",
        "colab_type": "code",
        "outputId": "bc8680a8-42d2-4786-8b73-aba09c22932a",
        "colab": {
          "base_uri": "https://localhost:8080/",
          "height": 419
        }
      },
      "source": [
        "df[['emp_title', 'emp_title_clean']]"
      ],
      "execution_count": 0,
      "outputs": [
        {
          "output_type": "execute_result",
          "data": {
            "text/html": [
              "<div>\n",
              "<style scoped>\n",
              "    .dataframe tbody tr th:only-of-type {\n",
              "        vertical-align: middle;\n",
              "    }\n",
              "\n",
              "    .dataframe tbody tr th {\n",
              "        vertical-align: top;\n",
              "    }\n",
              "\n",
              "    .dataframe thead th {\n",
              "        text-align: right;\n",
              "    }\n",
              "</style>\n",
              "<table border=\"1\" class=\"dataframe\">\n",
              "  <thead>\n",
              "    <tr style=\"text-align: right;\">\n",
              "      <th></th>\n",
              "      <th>emp_title</th>\n",
              "      <th>emp_title_clean</th>\n",
              "    </tr>\n",
              "  </thead>\n",
              "  <tbody>\n",
              "    <tr>\n",
              "      <th>0</th>\n",
              "      <td>bus driver</td>\n",
              "      <td>Bus Driver</td>\n",
              "    </tr>\n",
              "    <tr>\n",
              "      <th>1</th>\n",
              "      <td>Production Manager</td>\n",
              "      <td>Production Manager</td>\n",
              "    </tr>\n",
              "    <tr>\n",
              "      <th>2</th>\n",
              "      <td>Compliance Director</td>\n",
              "      <td>Compliance Director</td>\n",
              "    </tr>\n",
              "    <tr>\n",
              "      <th>3</th>\n",
              "      <td>Program Support Assistant</td>\n",
              "      <td>Program Support Assistant</td>\n",
              "    </tr>\n",
              "    <tr>\n",
              "      <th>4</th>\n",
              "      <td>Sr. Vice President -Risk Manager</td>\n",
              "      <td>Sr. Vice President -Risk Manager</td>\n",
              "    </tr>\n",
              "    <tr>\n",
              "      <th>...</th>\n",
              "      <td>...</td>\n",
              "      <td>...</td>\n",
              "    </tr>\n",
              "    <tr>\n",
              "      <th>128407</th>\n",
              "      <td>Tax Consultant</td>\n",
              "      <td>Tax Consultant</td>\n",
              "    </tr>\n",
              "    <tr>\n",
              "      <th>128408</th>\n",
              "      <td>security guard</td>\n",
              "      <td>Security Guard</td>\n",
              "    </tr>\n",
              "    <tr>\n",
              "      <th>128409</th>\n",
              "      <td>Payoff Clerk</td>\n",
              "      <td>Payoff Clerk</td>\n",
              "    </tr>\n",
              "    <tr>\n",
              "      <th>128410</th>\n",
              "      <td>NaN</td>\n",
              "      <td>Unknown</td>\n",
              "    </tr>\n",
              "    <tr>\n",
              "      <th>128411</th>\n",
              "      <td>Key Accounts Manager</td>\n",
              "      <td>Key Accounts Manager</td>\n",
              "    </tr>\n",
              "  </tbody>\n",
              "</table>\n",
              "<p>128412 rows × 2 columns</p>\n",
              "</div>"
            ],
            "text/plain": [
              "                               emp_title                   emp_title_clean\n",
              "0                             bus driver                        Bus Driver\n",
              "1                     Production Manager                Production Manager\n",
              "2                    Compliance Director               Compliance Director\n",
              "3             Program Support Assistant          Program Support Assistant\n",
              "4       Sr. Vice President -Risk Manager  Sr. Vice President -Risk Manager\n",
              "...                                  ...                               ...\n",
              "128407                    Tax Consultant                    Tax Consultant\n",
              "128408                    security guard                    Security Guard\n",
              "128409                      Payoff Clerk                      Payoff Clerk\n",
              "128410                               NaN                           Unknown\n",
              "128411              Key Accounts Manager              Key Accounts Manager\n",
              "\n",
              "[128412 rows x 2 columns]"
            ]
          },
          "metadata": {
            "tags": []
          },
          "execution_count": 47
        }
      ]
    },
    {
      "cell_type": "code",
      "metadata": {
        "id": "YgF4a1R7CzCr",
        "colab_type": "code",
        "colab": {}
      },
      "source": [
        ""
      ],
      "execution_count": 0,
      "outputs": []
    },
    {
      "cell_type": "markdown",
      "metadata": {
        "id": "RKTR_P-fyNGx",
        "colab_type": "text"
      },
      "source": [
        "### Create `emp_title_manager`\n",
        "\n",
        "pandas documentation: [`str.contains`](https://pandas.pydata.org/pandas-docs/stable/generated/pandas.Series.str.contains.html)"
      ]
    },
    {
      "cell_type": "code",
      "metadata": {
        "id": "G-c_mKO0yNGy",
        "colab_type": "code",
        "outputId": "82dac95d-ca85-4697-a063-0c98ef9169fe",
        "colab": {
          "base_uri": "https://localhost:8080/",
          "height": 161
        }
      },
      "source": [
        "df['emp_title_manager']=df['emp_title_clean'].str.contains('Manager')\n",
        "df.columns"
      ],
      "execution_count": 0,
      "outputs": [
        {
          "output_type": "execute_result",
          "data": {
            "text/plain": [
              "Index(['id', 'member_id', 'loan_amnt', 'funded_amnt', 'funded_amnt_inv',\n",
              "       'term', 'int_rate', 'installment', 'grade', 'sub_grade',\n",
              "       ...\n",
              "       'debt_settlement_flag', 'debt_settlement_flag_date',\n",
              "       'settlement_status', 'settlement_date', 'settlement_amount',\n",
              "       'settlement_percentage', 'settlement_term', 'int_rate_float',\n",
              "       'emp_title_clean', 'emp_title_manager'],\n",
              "      dtype='object', length=147)"
            ]
          },
          "metadata": {
            "tags": []
          },
          "execution_count": 51
        }
      ]
    },
    {
      "cell_type": "code",
      "metadata": {
        "id": "tkV0u_OfDKoL",
        "colab_type": "code",
        "outputId": "3c3c17bd-5eff-4058-b1db-61ce43887494",
        "colab": {
          "base_uri": "https://localhost:8080/",
          "height": 173
        }
      },
      "source": [
        "df[['emp_title_clean', 'emp_title_manager']].sample(4)"
      ],
      "execution_count": 0,
      "outputs": [
        {
          "output_type": "execute_result",
          "data": {
            "text/html": [
              "<div>\n",
              "<style scoped>\n",
              "    .dataframe tbody tr th:only-of-type {\n",
              "        vertical-align: middle;\n",
              "    }\n",
              "\n",
              "    .dataframe tbody tr th {\n",
              "        vertical-align: top;\n",
              "    }\n",
              "\n",
              "    .dataframe thead th {\n",
              "        text-align: right;\n",
              "    }\n",
              "</style>\n",
              "<table border=\"1\" class=\"dataframe\">\n",
              "  <thead>\n",
              "    <tr style=\"text-align: right;\">\n",
              "      <th></th>\n",
              "      <th>emp_title_clean</th>\n",
              "      <th>emp_title_manager</th>\n",
              "    </tr>\n",
              "  </thead>\n",
              "  <tbody>\n",
              "    <tr>\n",
              "      <th>42119</th>\n",
              "      <td>Security</td>\n",
              "      <td>False</td>\n",
              "    </tr>\n",
              "    <tr>\n",
              "      <th>50039</th>\n",
              "      <td>Escrow Officer</td>\n",
              "      <td>False</td>\n",
              "    </tr>\n",
              "    <tr>\n",
              "      <th>7921</th>\n",
              "      <td>Foreman</td>\n",
              "      <td>False</td>\n",
              "    </tr>\n",
              "    <tr>\n",
              "      <th>32776</th>\n",
              "      <td>Milk Quality Advisor</td>\n",
              "      <td>False</td>\n",
              "    </tr>\n",
              "  </tbody>\n",
              "</table>\n",
              "</div>"
            ],
            "text/plain": [
              "            emp_title_clean  emp_title_manager\n",
              "42119              Security              False\n",
              "50039        Escrow Officer              False\n",
              "7921                Foreman              False\n",
              "32776  Milk Quality Advisor              False"
            ]
          },
          "metadata": {
            "tags": []
          },
          "execution_count": 52
        }
      ]
    },
    {
      "cell_type": "code",
      "metadata": {
        "id": "9H0TeocEDWdX",
        "colab_type": "code",
        "outputId": "465f7226-8109-455c-998d-3d4f438fe55b",
        "colab": {
          "base_uri": "https://localhost:8080/",
          "height": 35
        }
      },
      "source": [
        "df['emp_title_manager'].isnull().sum()"
      ],
      "execution_count": 0,
      "outputs": [
        {
          "output_type": "execute_result",
          "data": {
            "text/plain": [
              "0"
            ]
          },
          "metadata": {
            "tags": []
          },
          "execution_count": 53
        }
      ]
    },
    {
      "cell_type": "markdown",
      "metadata": {
        "colab_type": "text",
        "id": "s8BcCY6so3by"
      },
      "source": [
        "## Work with dates"
      ]
    },
    {
      "cell_type": "markdown",
      "metadata": {
        "id": "TcZ_doi5yNG0",
        "colab_type": "text"
      },
      "source": [
        "pandas documentation\n",
        "- [to_datetime](https://pandas.pydata.org/pandas-docs/stable/generated/pandas.to_datetime.html)\n",
        "- [Time/Date Components](https://pandas.pydata.org/pandas-docs/stable/timeseries.html#time-date-components) \"You can access these properties via the `.dt` accessor\""
      ]
    },
    {
      "cell_type": "code",
      "metadata": {
        "colab_type": "code",
        "id": "kNrKxOTeo4W3",
        "outputId": "ff6d4292-6b92-4fd9-d430-c5ae643bea3f",
        "colab": {
          "base_uri": "https://localhost:8080/",
          "height": 1000
        }
      },
      "source": [
        "# list all columns and their data types\n",
        "df.dtypes\n"
      ],
      "execution_count": 0,
      "outputs": [
        {
          "output_type": "execute_result",
          "data": {
            "text/plain": [
              "id                                            float64\n",
              "member_id                                     float64\n",
              "loan_amnt                                       int64\n",
              "funded_amnt                                     int64\n",
              "funded_amnt_inv                               float64\n",
              "term                                           object\n",
              "int_rate                                       object\n",
              "installment                                   float64\n",
              "grade                                          object\n",
              "sub_grade                                      object\n",
              "emp_title                                      object\n",
              "emp_length                                     object\n",
              "home_ownership                                 object\n",
              "annual_inc                                    float64\n",
              "verification_status                            object\n",
              "issue_d                                        object\n",
              "loan_status                                    object\n",
              "pymnt_plan                                     object\n",
              "url                                           float64\n",
              "desc                                          float64\n",
              "purpose                                        object\n",
              "title                                          object\n",
              "zip_code                                       object\n",
              "addr_state                                     object\n",
              "dti                                           float64\n",
              "delinq_2yrs                                     int64\n",
              "earliest_cr_line                               object\n",
              "inq_last_6mths                                  int64\n",
              "mths_since_last_delinq                        float64\n",
              "mths_since_last_record                        float64\n",
              "open_acc                                        int64\n",
              "pub_rec                                         int64\n",
              "revol_bal                                       int64\n",
              "revol_util                                     object\n",
              "total_acc                                       int64\n",
              "initial_list_status                            object\n",
              "out_prncp                                     float64\n",
              "out_prncp_inv                                 float64\n",
              "total_pymnt                                   float64\n",
              "total_pymnt_inv                               float64\n",
              "total_rec_prncp                               float64\n",
              "total_rec_int                                 float64\n",
              "total_rec_late_fee                            float64\n",
              "recoveries                                    float64\n",
              "collection_recovery_fee                       float64\n",
              "last_pymnt_d                                   object\n",
              "last_pymnt_amnt                               float64\n",
              "next_pymnt_d                                   object\n",
              "last_credit_pull_d                             object\n",
              "collections_12_mths_ex_med                      int64\n",
              "mths_since_last_major_derog                   float64\n",
              "policy_code                                     int64\n",
              "application_type                               object\n",
              "annual_inc_joint                              float64\n",
              "dti_joint                                     float64\n",
              "verification_status_joint                      object\n",
              "acc_now_delinq                                  int64\n",
              "tot_coll_amt                                    int64\n",
              "tot_cur_bal                                     int64\n",
              "open_acc_6m                                     int64\n",
              "open_act_il                                     int64\n",
              "open_il_12m                                     int64\n",
              "open_il_24m                                     int64\n",
              "mths_since_rcnt_il                            float64\n",
              "total_bal_il                                    int64\n",
              "il_util                                       float64\n",
              "open_rv_12m                                     int64\n",
              "open_rv_24m                                     int64\n",
              "max_bal_bc                                      int64\n",
              "all_util                                      float64\n",
              "total_rev_hi_lim                                int64\n",
              "inq_fi                                          int64\n",
              "total_cu_tl                                     int64\n",
              "inq_last_12m                                    int64\n",
              "acc_open_past_24mths                            int64\n",
              "avg_cur_bal                                   float64\n",
              "bc_open_to_buy                                float64\n",
              "bc_util                                       float64\n",
              "chargeoff_within_12_mths                        int64\n",
              "delinq_amnt                                     int64\n",
              "mo_sin_old_il_acct                            float64\n",
              "mo_sin_old_rev_tl_op                            int64\n",
              "mo_sin_rcnt_rev_tl_op                           int64\n",
              "mo_sin_rcnt_tl                                  int64\n",
              "mort_acc                                        int64\n",
              "mths_since_recent_bc                          float64\n",
              "mths_since_recent_bc_dlq                      float64\n",
              "mths_since_recent_inq                         float64\n",
              "mths_since_recent_revol_delinq                float64\n",
              "num_accts_ever_120_pd                           int64\n",
              "num_actv_bc_tl                                  int64\n",
              "num_actv_rev_tl                                 int64\n",
              "num_bc_sats                                     int64\n",
              "num_bc_tl                                       int64\n",
              "num_il_tl                                       int64\n",
              "num_op_rev_tl                                   int64\n",
              "num_rev_accts                                   int64\n",
              "num_rev_tl_bal_gt_0                             int64\n",
              "num_sats                                        int64\n",
              "num_tl_120dpd_2m                              float64\n",
              "num_tl_30dpd                                    int64\n",
              "num_tl_90g_dpd_24m                              int64\n",
              "num_tl_op_past_12m                              int64\n",
              "pct_tl_nvr_dlq                                float64\n",
              "percent_bc_gt_75                              float64\n",
              "pub_rec_bankruptcies                            int64\n",
              "tax_liens                                       int64\n",
              "tot_hi_cred_lim                                 int64\n",
              "total_bal_ex_mort                               int64\n",
              "total_bc_limit                                  int64\n",
              "total_il_high_credit_limit                      int64\n",
              "revol_bal_joint                               float64\n",
              "sec_app_earliest_cr_line                       object\n",
              "sec_app_inq_last_6mths                        float64\n",
              "sec_app_mort_acc                              float64\n",
              "sec_app_open_acc                              float64\n",
              "sec_app_revol_util                            float64\n",
              "sec_app_open_act_il                           float64\n",
              "sec_app_num_rev_accts                         float64\n",
              "sec_app_chargeoff_within_12_mths              float64\n",
              "sec_app_collections_12_mths_ex_med            float64\n",
              "sec_app_mths_since_last_major_derog           float64\n",
              "hardship_flag                                  object\n",
              "hardship_type                                  object\n",
              "hardship_reason                                object\n",
              "hardship_status                                object\n",
              "deferral_term                                 float64\n",
              "hardship_amount                               float64\n",
              "hardship_start_date                            object\n",
              "hardship_end_date                              object\n",
              "payment_plan_start_date                        object\n",
              "hardship_length                               float64\n",
              "hardship_dpd                                  float64\n",
              "hardship_loan_status                           object\n",
              "orig_projected_additional_accrued_interest    float64\n",
              "hardship_payoff_balance_amount                float64\n",
              "hardship_last_payment_amount                  float64\n",
              "debt_settlement_flag                           object\n",
              "debt_settlement_flag_date                      object\n",
              "settlement_status                              object\n",
              "settlement_date                                object\n",
              "settlement_amount                             float64\n",
              "settlement_percentage                         float64\n",
              "settlement_term                               float64\n",
              "int_rate_float                                float64\n",
              "emp_title_clean                                object\n",
              "emp_title_manager                                bool\n",
              "dtype: object"
            ]
          },
          "metadata": {
            "tags": []
          },
          "execution_count": 57
        }
      ]
    },
    {
      "cell_type": "code",
      "metadata": {
        "id": "S2UulBHFDvw8",
        "colab_type": "code",
        "outputId": "3130683c-40f7-4216-c133-246218bd0e1d",
        "colab": {
          "base_uri": "https://localhost:8080/",
          "height": 179
        }
      },
      "source": [
        "# which columns are dates?\n",
        "for col in df.columns:\n",
        "  if (col.endswith('_d')) or (col.endswith('_date')):\n",
        "    print(col)"
      ],
      "execution_count": 0,
      "outputs": [
        {
          "output_type": "stream",
          "text": [
            "issue_d\n",
            "last_pymnt_d\n",
            "next_pymnt_d\n",
            "last_credit_pull_d\n",
            "hardship_start_date\n",
            "hardship_end_date\n",
            "payment_plan_start_date\n",
            "debt_settlement_flag_date\n",
            "settlement_date\n"
          ],
          "name": "stdout"
        }
      ]
    },
    {
      "cell_type": "code",
      "metadata": {
        "id": "QIdWPWpIENnm",
        "colab_type": "code",
        "outputId": "1a875488-8cc2-4aa5-9af5-69b999d5cf3e",
        "colab": {
          "base_uri": "https://localhost:8080/",
          "height": 55
        }
      },
      "source": [
        "date_col_list = [col for col in df.columns if col.endswith('_d') or (col.endswith('_date'))]\n",
        "print(date_col_list)"
      ],
      "execution_count": 0,
      "outputs": [
        {
          "output_type": "stream",
          "text": [
            "['issue_d', 'last_pymnt_d', 'next_pymnt_d', 'last_credit_pull_d', 'hardship_start_date', 'hardship_end_date', 'payment_plan_start_date', 'debt_settlement_flag_date', 'settlement_date']\n"
          ],
          "name": "stdout"
        }
      ]
    },
    {
      "cell_type": "code",
      "metadata": {
        "id": "a1PzcfatE3uP",
        "colab_type": "code",
        "outputId": "5e6c2fb9-c3c8-4db6-fc6d-c3bae2a0be5d",
        "colab": {
          "base_uri": "https://localhost:8080/",
          "height": 35
        }
      },
      "source": [
        "df['issue_d'].dtype"
      ],
      "execution_count": 0,
      "outputs": [
        {
          "output_type": "execute_result",
          "data": {
            "text/plain": [
              "dtype('O')"
            ]
          },
          "metadata": {
            "tags": []
          },
          "execution_count": 63
        }
      ]
    },
    {
      "cell_type": "code",
      "metadata": {
        "id": "mtsF41oQFGJG",
        "colab_type": "code",
        "outputId": "c4376859-9b44-4f92-a3b3-7d6394bafd77",
        "colab": {
          "base_uri": "https://localhost:8080/",
          "height": 233
        }
      },
      "source": [
        "df.loc[0:10, 'issue_d']"
      ],
      "execution_count": 0,
      "outputs": [
        {
          "output_type": "execute_result",
          "data": {
            "text/plain": [
              "0     Dec-2018\n",
              "1     Dec-2018\n",
              "2     Dec-2018\n",
              "3     Dec-2018\n",
              "4     Dec-2018\n",
              "5     Dec-2018\n",
              "6     Dec-2018\n",
              "7     Dec-2018\n",
              "8     Dec-2018\n",
              "9     Dec-2018\n",
              "10    Dec-2018\n",
              "Name: issue_d, dtype: object"
            ]
          },
          "metadata": {
            "tags": []
          },
          "execution_count": 64
        }
      ]
    },
    {
      "cell_type": "code",
      "metadata": {
        "id": "2WzfiCDlFKAg",
        "colab_type": "code",
        "outputId": "1ccbe9c9-0bc0-47df-9fb8-94aff226400a",
        "colab": {
          "base_uri": "https://localhost:8080/",
          "height": 204
        }
      },
      "source": [
        "#Let's convert those strings to dates\n",
        "df['issue_d_clean']=pd.to_datetime(df['issue_d'])\n",
        "\n",
        "# compare\n",
        "df[['issue_d', 'issue_d_clean']].head()"
      ],
      "execution_count": 0,
      "outputs": [
        {
          "output_type": "execute_result",
          "data": {
            "text/html": [
              "<div>\n",
              "<style scoped>\n",
              "    .dataframe tbody tr th:only-of-type {\n",
              "        vertical-align: middle;\n",
              "    }\n",
              "\n",
              "    .dataframe tbody tr th {\n",
              "        vertical-align: top;\n",
              "    }\n",
              "\n",
              "    .dataframe thead th {\n",
              "        text-align: right;\n",
              "    }\n",
              "</style>\n",
              "<table border=\"1\" class=\"dataframe\">\n",
              "  <thead>\n",
              "    <tr style=\"text-align: right;\">\n",
              "      <th></th>\n",
              "      <th>issue_d</th>\n",
              "      <th>issue_d_clean</th>\n",
              "    </tr>\n",
              "  </thead>\n",
              "  <tbody>\n",
              "    <tr>\n",
              "      <th>0</th>\n",
              "      <td>Dec-2018</td>\n",
              "      <td>2018-12-01</td>\n",
              "    </tr>\n",
              "    <tr>\n",
              "      <th>1</th>\n",
              "      <td>Dec-2018</td>\n",
              "      <td>2018-12-01</td>\n",
              "    </tr>\n",
              "    <tr>\n",
              "      <th>2</th>\n",
              "      <td>Dec-2018</td>\n",
              "      <td>2018-12-01</td>\n",
              "    </tr>\n",
              "    <tr>\n",
              "      <th>3</th>\n",
              "      <td>Dec-2018</td>\n",
              "      <td>2018-12-01</td>\n",
              "    </tr>\n",
              "    <tr>\n",
              "      <th>4</th>\n",
              "      <td>Dec-2018</td>\n",
              "      <td>2018-12-01</td>\n",
              "    </tr>\n",
              "  </tbody>\n",
              "</table>\n",
              "</div>"
            ],
            "text/plain": [
              "    issue_d issue_d_clean\n",
              "0  Dec-2018    2018-12-01\n",
              "1  Dec-2018    2018-12-01\n",
              "2  Dec-2018    2018-12-01\n",
              "3  Dec-2018    2018-12-01\n",
              "4  Dec-2018    2018-12-01"
            ]
          },
          "metadata": {
            "tags": []
          },
          "execution_count": 65
        }
      ]
    },
    {
      "cell_type": "code",
      "metadata": {
        "id": "9bmxlR8nF0DW",
        "colab_type": "code",
        "outputId": "3a6c8a94-cd9d-4eab-e5e7-a8be4ba251c7",
        "colab": {
          "base_uri": "https://localhost:8080/",
          "height": 35
        }
      },
      "source": [
        "# check the type\n",
        "df['issue_d_clean'].dtype"
      ],
      "execution_count": 0,
      "outputs": [
        {
          "output_type": "execute_result",
          "data": {
            "text/plain": [
              "dtype('<M8[ns]')"
            ]
          },
          "metadata": {
            "tags": []
          },
          "execution_count": 67
        }
      ]
    },
    {
      "cell_type": "code",
      "metadata": {
        "id": "CjDrouHqGCYz",
        "colab_type": "code",
        "outputId": "beda3366-d089-49d2-c5b7-61cb15a21fd2",
        "colab": {
          "base_uri": "https://localhost:8080/",
          "height": 235
        }
      },
      "source": [
        "# now we can create some new values\n",
        "df['year']=df['issue_d_clean'].dt.year\n",
        "df[['issue_d_clean', 'year']].sample(6)"
      ],
      "execution_count": 0,
      "outputs": [
        {
          "output_type": "execute_result",
          "data": {
            "text/html": [
              "<div>\n",
              "<style scoped>\n",
              "    .dataframe tbody tr th:only-of-type {\n",
              "        vertical-align: middle;\n",
              "    }\n",
              "\n",
              "    .dataframe tbody tr th {\n",
              "        vertical-align: top;\n",
              "    }\n",
              "\n",
              "    .dataframe thead th {\n",
              "        text-align: right;\n",
              "    }\n",
              "</style>\n",
              "<table border=\"1\" class=\"dataframe\">\n",
              "  <thead>\n",
              "    <tr style=\"text-align: right;\">\n",
              "      <th></th>\n",
              "      <th>issue_d_clean</th>\n",
              "      <th>year</th>\n",
              "    </tr>\n",
              "  </thead>\n",
              "  <tbody>\n",
              "    <tr>\n",
              "      <th>89783</th>\n",
              "      <td>2018-10-01</td>\n",
              "      <td>2018</td>\n",
              "    </tr>\n",
              "    <tr>\n",
              "      <th>50832</th>\n",
              "      <td>2018-11-01</td>\n",
              "      <td>2018</td>\n",
              "    </tr>\n",
              "    <tr>\n",
              "      <th>66979</th>\n",
              "      <td>2018-11-01</td>\n",
              "      <td>2018</td>\n",
              "    </tr>\n",
              "    <tr>\n",
              "      <th>63932</th>\n",
              "      <td>2018-11-01</td>\n",
              "      <td>2018</td>\n",
              "    </tr>\n",
              "    <tr>\n",
              "      <th>17959</th>\n",
              "      <td>2018-12-01</td>\n",
              "      <td>2018</td>\n",
              "    </tr>\n",
              "    <tr>\n",
              "      <th>122813</th>\n",
              "      <td>2018-10-01</td>\n",
              "      <td>2018</td>\n",
              "    </tr>\n",
              "  </tbody>\n",
              "</table>\n",
              "</div>"
            ],
            "text/plain": [
              "       issue_d_clean  year\n",
              "89783     2018-10-01  2018\n",
              "50832     2018-11-01  2018\n",
              "66979     2018-11-01  2018\n",
              "63932     2018-11-01  2018\n",
              "17959     2018-12-01  2018\n",
              "122813    2018-10-01  2018"
            ]
          },
          "metadata": {
            "tags": []
          },
          "execution_count": 68
        }
      ]
    },
    {
      "cell_type": "code",
      "metadata": {
        "id": "g-HM0Q3RGdoY",
        "colab_type": "code",
        "outputId": "7c7c5a66-5fc6-4b61-9cc9-e2ef8e49e0f4",
        "colab": {
          "base_uri": "https://localhost:8080/",
          "height": 235
        }
      },
      "source": [
        "df['weekday']=df['issue_d_clean'].dt.weekday\n",
        "df[['issue_d_clean', 'weekday']].sample(6)"
      ],
      "execution_count": 0,
      "outputs": [
        {
          "output_type": "execute_result",
          "data": {
            "text/html": [
              "<div>\n",
              "<style scoped>\n",
              "    .dataframe tbody tr th:only-of-type {\n",
              "        vertical-align: middle;\n",
              "    }\n",
              "\n",
              "    .dataframe tbody tr th {\n",
              "        vertical-align: top;\n",
              "    }\n",
              "\n",
              "    .dataframe thead th {\n",
              "        text-align: right;\n",
              "    }\n",
              "</style>\n",
              "<table border=\"1\" class=\"dataframe\">\n",
              "  <thead>\n",
              "    <tr style=\"text-align: right;\">\n",
              "      <th></th>\n",
              "      <th>issue_d_clean</th>\n",
              "      <th>weekday</th>\n",
              "    </tr>\n",
              "  </thead>\n",
              "  <tbody>\n",
              "    <tr>\n",
              "      <th>27858</th>\n",
              "      <td>2018-12-01</td>\n",
              "      <td>5</td>\n",
              "    </tr>\n",
              "    <tr>\n",
              "      <th>15418</th>\n",
              "      <td>2018-12-01</td>\n",
              "      <td>5</td>\n",
              "    </tr>\n",
              "    <tr>\n",
              "      <th>90664</th>\n",
              "      <td>2018-10-01</td>\n",
              "      <td>0</td>\n",
              "    </tr>\n",
              "    <tr>\n",
              "      <th>84288</th>\n",
              "      <td>2018-10-01</td>\n",
              "      <td>0</td>\n",
              "    </tr>\n",
              "    <tr>\n",
              "      <th>4337</th>\n",
              "      <td>2018-12-01</td>\n",
              "      <td>5</td>\n",
              "    </tr>\n",
              "    <tr>\n",
              "      <th>68371</th>\n",
              "      <td>2018-11-01</td>\n",
              "      <td>3</td>\n",
              "    </tr>\n",
              "  </tbody>\n",
              "</table>\n",
              "</div>"
            ],
            "text/plain": [
              "      issue_d_clean  weekday\n",
              "27858    2018-12-01        5\n",
              "15418    2018-12-01        5\n",
              "90664    2018-10-01        0\n",
              "84288    2018-10-01        0\n",
              "4337     2018-12-01        5\n",
              "68371    2018-11-01        3"
            ]
          },
          "metadata": {
            "tags": []
          },
          "execution_count": 70
        }
      ]
    },
    {
      "cell_type": "code",
      "metadata": {
        "id": "SxNnnle3Gjxq",
        "colab_type": "code",
        "colab": {}
      },
      "source": [
        ""
      ],
      "execution_count": 0,
      "outputs": []
    }
  ]
}